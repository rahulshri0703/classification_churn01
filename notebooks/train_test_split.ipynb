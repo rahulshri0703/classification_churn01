{
 "cells": [
  {
   "cell_type": "code",
   "execution_count": 1,
   "id": "a204d56b",
   "metadata": {},
   "outputs": [],
   "source": [
    "import pandas as pd\n",
    "import numpy as np\n",
    "import seaborn as sns"
   ]
  },
  {
   "cell_type": "code",
   "execution_count": 17,
   "id": "c0804d94",
   "metadata": {},
   "outputs": [
    {
     "data": {
      "text/html": [
       "<div>\n",
       "<style scoped>\n",
       "    .dataframe tbody tr th:only-of-type {\n",
       "        vertical-align: middle;\n",
       "    }\n",
       "\n",
       "    .dataframe tbody tr th {\n",
       "        vertical-align: top;\n",
       "    }\n",
       "\n",
       "    .dataframe thead th {\n",
       "        text-align: right;\n",
       "    }\n",
       "</style>\n",
       "<table border=\"1\" class=\"dataframe\">\n",
       "  <thead>\n",
       "    <tr style=\"text-align: right;\">\n",
       "      <th></th>\n",
       "      <th>mobile_number</th>\n",
       "      <th>circle_id</th>\n",
       "      <th>loc_og_t2o_mou</th>\n",
       "      <th>std_og_t2o_mou</th>\n",
       "      <th>loc_ic_t2o_mou</th>\n",
       "      <th>last_date_of_month_6</th>\n",
       "      <th>last_date_of_month_7</th>\n",
       "      <th>last_date_of_month_8</th>\n",
       "      <th>last_date_of_month_9</th>\n",
       "      <th>arpu_6</th>\n",
       "      <th>...</th>\n",
       "      <th>sachet_3g_9</th>\n",
       "      <th>fb_user_6</th>\n",
       "      <th>fb_user_7</th>\n",
       "      <th>fb_user_8</th>\n",
       "      <th>fb_user_9</th>\n",
       "      <th>aon</th>\n",
       "      <th>aug_vbc_3g</th>\n",
       "      <th>jul_vbc_3g</th>\n",
       "      <th>jun_vbc_3g</th>\n",
       "      <th>sep_vbc_3g</th>\n",
       "    </tr>\n",
       "  </thead>\n",
       "  <tbody>\n",
       "    <tr>\n",
       "      <th>0</th>\n",
       "      <td>7000842753</td>\n",
       "      <td>109</td>\n",
       "      <td>0.0</td>\n",
       "      <td>0.0</td>\n",
       "      <td>0.0</td>\n",
       "      <td>6/30/2014</td>\n",
       "      <td>7/31/2014</td>\n",
       "      <td>8/31/2014</td>\n",
       "      <td>9/30/2014</td>\n",
       "      <td>197.385</td>\n",
       "      <td>...</td>\n",
       "      <td>0</td>\n",
       "      <td>1.0</td>\n",
       "      <td>1.0</td>\n",
       "      <td>1.0</td>\n",
       "      <td>NaN</td>\n",
       "      <td>968</td>\n",
       "      <td>30.4</td>\n",
       "      <td>0.0</td>\n",
       "      <td>101.20</td>\n",
       "      <td>3.58</td>\n",
       "    </tr>\n",
       "    <tr>\n",
       "      <th>1</th>\n",
       "      <td>7001865778</td>\n",
       "      <td>109</td>\n",
       "      <td>0.0</td>\n",
       "      <td>0.0</td>\n",
       "      <td>0.0</td>\n",
       "      <td>6/30/2014</td>\n",
       "      <td>7/31/2014</td>\n",
       "      <td>8/31/2014</td>\n",
       "      <td>9/30/2014</td>\n",
       "      <td>34.047</td>\n",
       "      <td>...</td>\n",
       "      <td>0</td>\n",
       "      <td>NaN</td>\n",
       "      <td>1.0</td>\n",
       "      <td>1.0</td>\n",
       "      <td>NaN</td>\n",
       "      <td>1006</td>\n",
       "      <td>0.0</td>\n",
       "      <td>0.0</td>\n",
       "      <td>0.00</td>\n",
       "      <td>0.00</td>\n",
       "    </tr>\n",
       "    <tr>\n",
       "      <th>2</th>\n",
       "      <td>7001625959</td>\n",
       "      <td>109</td>\n",
       "      <td>0.0</td>\n",
       "      <td>0.0</td>\n",
       "      <td>0.0</td>\n",
       "      <td>6/30/2014</td>\n",
       "      <td>7/31/2014</td>\n",
       "      <td>8/31/2014</td>\n",
       "      <td>9/30/2014</td>\n",
       "      <td>167.690</td>\n",
       "      <td>...</td>\n",
       "      <td>0</td>\n",
       "      <td>NaN</td>\n",
       "      <td>NaN</td>\n",
       "      <td>NaN</td>\n",
       "      <td>1.0</td>\n",
       "      <td>1103</td>\n",
       "      <td>0.0</td>\n",
       "      <td>0.0</td>\n",
       "      <td>4.17</td>\n",
       "      <td>0.00</td>\n",
       "    </tr>\n",
       "    <tr>\n",
       "      <th>3</th>\n",
       "      <td>7001204172</td>\n",
       "      <td>109</td>\n",
       "      <td>0.0</td>\n",
       "      <td>0.0</td>\n",
       "      <td>0.0</td>\n",
       "      <td>6/30/2014</td>\n",
       "      <td>7/31/2014</td>\n",
       "      <td>8/31/2014</td>\n",
       "      <td>9/30/2014</td>\n",
       "      <td>221.338</td>\n",
       "      <td>...</td>\n",
       "      <td>0</td>\n",
       "      <td>NaN</td>\n",
       "      <td>NaN</td>\n",
       "      <td>NaN</td>\n",
       "      <td>NaN</td>\n",
       "      <td>2491</td>\n",
       "      <td>0.0</td>\n",
       "      <td>0.0</td>\n",
       "      <td>0.00</td>\n",
       "      <td>0.00</td>\n",
       "    </tr>\n",
       "    <tr>\n",
       "      <th>4</th>\n",
       "      <td>7000142493</td>\n",
       "      <td>109</td>\n",
       "      <td>0.0</td>\n",
       "      <td>0.0</td>\n",
       "      <td>0.0</td>\n",
       "      <td>6/30/2014</td>\n",
       "      <td>7/31/2014</td>\n",
       "      <td>8/31/2014</td>\n",
       "      <td>9/30/2014</td>\n",
       "      <td>261.636</td>\n",
       "      <td>...</td>\n",
       "      <td>0</td>\n",
       "      <td>0.0</td>\n",
       "      <td>NaN</td>\n",
       "      <td>NaN</td>\n",
       "      <td>NaN</td>\n",
       "      <td>1526</td>\n",
       "      <td>0.0</td>\n",
       "      <td>0.0</td>\n",
       "      <td>0.00</td>\n",
       "      <td>0.00</td>\n",
       "    </tr>\n",
       "  </tbody>\n",
       "</table>\n",
       "<p>5 rows × 226 columns</p>\n",
       "</div>"
      ],
      "text/plain": [
       "   mobile_number  circle_id  loc_og_t2o_mou  std_og_t2o_mou  loc_ic_t2o_mou  \\\n",
       "0     7000842753        109             0.0             0.0             0.0   \n",
       "1     7001865778        109             0.0             0.0             0.0   \n",
       "2     7001625959        109             0.0             0.0             0.0   \n",
       "3     7001204172        109             0.0             0.0             0.0   \n",
       "4     7000142493        109             0.0             0.0             0.0   \n",
       "\n",
       "  last_date_of_month_6 last_date_of_month_7 last_date_of_month_8  \\\n",
       "0            6/30/2014            7/31/2014            8/31/2014   \n",
       "1            6/30/2014            7/31/2014            8/31/2014   \n",
       "2            6/30/2014            7/31/2014            8/31/2014   \n",
       "3            6/30/2014            7/31/2014            8/31/2014   \n",
       "4            6/30/2014            7/31/2014            8/31/2014   \n",
       "\n",
       "  last_date_of_month_9   arpu_6  ...  sachet_3g_9  fb_user_6  fb_user_7  \\\n",
       "0            9/30/2014  197.385  ...            0        1.0        1.0   \n",
       "1            9/30/2014   34.047  ...            0        NaN        1.0   \n",
       "2            9/30/2014  167.690  ...            0        NaN        NaN   \n",
       "3            9/30/2014  221.338  ...            0        NaN        NaN   \n",
       "4            9/30/2014  261.636  ...            0        0.0        NaN   \n",
       "\n",
       "   fb_user_8  fb_user_9   aon  aug_vbc_3g  jul_vbc_3g  jun_vbc_3g  sep_vbc_3g  \n",
       "0        1.0        NaN   968        30.4         0.0      101.20        3.58  \n",
       "1        1.0        NaN  1006         0.0         0.0        0.00        0.00  \n",
       "2        NaN        1.0  1103         0.0         0.0        4.17        0.00  \n",
       "3        NaN        NaN  2491         0.0         0.0        0.00        0.00  \n",
       "4        NaN        NaN  1526         0.0         0.0        0.00        0.00  \n",
       "\n",
       "[5 rows x 226 columns]"
      ]
     },
     "execution_count": 17,
     "metadata": {},
     "output_type": "execute_result"
    }
   ],
   "source": [
    "df = pd.read_csv('/Users/rahul/Documents/iitb_projects/churn/telecom_churn_data.csv')\n",
    "df.head()"
   ]
  },
  {
   "cell_type": "code",
   "execution_count": 18,
   "id": "5b0f8a7c",
   "metadata": {},
   "outputs": [],
   "source": [
    "# filtering high value customers"
   ]
  },
  {
   "cell_type": "code",
   "execution_count": 19,
   "id": "ffa25a23",
   "metadata": {},
   "outputs": [],
   "source": [
    "class filterHighValueCustomer:\n",
    "    \n",
    "    def __init__(self):\n",
    "        \n",
    "        self\n",
    "        \n",
    "    def filterCustomer(self,df,tol=70):\n",
    "        \n",
    "        df = df.copy()\n",
    "        df['total_rech_data_amt_6'] = df['av_rech_amt_data_6'] * df['total_rech_data_6']\n",
    "        df['total_rech_data_amt_7'] = df['av_rech_amt_data_7'] * df['total_rech_data_7']\n",
    "        df['total_rech_data_amt_8'] = df['av_rech_amt_data_8'] * df['total_rech_data_8']\n",
    "        df['total_rech_data_amt_9'] = df['av_rech_amt_data_9'] * df['total_rech_data_9']\n",
    "\n",
    "        df.drop(['total_rech_data_6','total_rech_data_7','total_rech_data_8',\n",
    "              'total_rech_data_9','av_rech_amt_data_6','av_rech_amt_data_7',\n",
    "              'av_rech_amt_data_8','av_rech_amt_data_9'],axis = 1,inplace = True)\n",
    "        \n",
    "        df_av_recharge_6_7 = (df['total_rech_amt_6'].fillna(0) + \n",
    "                              df['total_rech_amt_7'].fillna(0) \n",
    "                        + df['total_rech_data_amt_6'].fillna(0) \n",
    "                              + df['total_rech_data_amt_7'].fillna(0))/2\n",
    "        \n",
    "        perc = np.percentile(df_av_recharge_6_7, tol)\n",
    "        df = df[df_av_recharge_6_7 >= perc]\n",
    "        \n",
    "        return df\n",
    "    \n",
    "    def MakeChurnColumn(self,df):\n",
    "        df = df.copy()\n",
    "        \n",
    "        df['Churn'] = 0\n",
    "        churned_customers = df.query('total_og_mou_9 == 0 & total_ic_mou_9 == 0 & vol_2g_mb_9 == 0 &  vol_3g_mb_9 == 0').index\n",
    "        df.loc[churned_customers,'Churn']=1\n",
    "        df['Churn'] = df['Churn'].astype('object')\n",
    "        return df"
   ]
  },
  {
   "cell_type": "code",
   "execution_count": 20,
   "id": "79b1f770",
   "metadata": {},
   "outputs": [],
   "source": [
    "f = filterHighValueCustomer()"
   ]
  },
  {
   "cell_type": "code",
   "execution_count": 21,
   "id": "b4d8c322",
   "metadata": {},
   "outputs": [],
   "source": [
    "df = f.filterCustomer(df)"
   ]
  },
  {
   "cell_type": "code",
   "execution_count": 22,
   "id": "e263b166",
   "metadata": {},
   "outputs": [
    {
     "data": {
      "text/plain": [
       "(30001, 223)"
      ]
     },
     "execution_count": 22,
     "metadata": {},
     "output_type": "execute_result"
    }
   ],
   "source": [
    "df1.shape"
   ]
  },
  {
   "cell_type": "code",
   "execution_count": 23,
   "id": "730e2029",
   "metadata": {},
   "outputs": [],
   "source": [
    "df = f.MakeChurnColumn(df)"
   ]
  },
  {
   "cell_type": "code",
   "execution_count": 24,
   "id": "aa9fd39b",
   "metadata": {},
   "outputs": [
    {
     "data": {
      "text/plain": [
       "0    0.918636\n",
       "1    0.081364\n",
       "Name: Churn, dtype: float64"
      ]
     },
     "execution_count": 24,
     "metadata": {},
     "output_type": "execute_result"
    }
   ],
   "source": [
    "df['Churn'].value_counts(normalize=True)"
   ]
  },
  {
   "cell_type": "code",
   "execution_count": 25,
   "id": "9d5c81d3",
   "metadata": {},
   "outputs": [],
   "source": [
    "#!pip install -U jinja2\n",
    "from sklearn.model_selection import train_test_split"
   ]
  },
  {
   "cell_type": "code",
   "execution_count": 26,
   "id": "ba5fd8bd",
   "metadata": {},
   "outputs": [
    {
     "data": {
      "text/plain": [
       "((24000, 222), (6001, 222), (24000,), (6001,))"
      ]
     },
     "execution_count": 26,
     "metadata": {},
     "output_type": "execute_result"
    }
   ],
   "source": [
    "x_train,x_test,y_train,y_test = train_test_split(df.drop(columns=['Churn']),df['Churn'],\n",
    "                                                random_state=100,stratify=df['Churn'],\n",
    "                                                 test_size=0.2)\n",
    "\n",
    "x_train.shape,x_test.shape,y_train.shape,y_test.shape"
   ]
  },
  {
   "cell_type": "code",
   "execution_count": 27,
   "id": "4dc166d4",
   "metadata": {},
   "outputs": [
    {
     "data": {
      "text/plain": [
       "((19200, 222), (4800, 222), (19200,), (4800,))"
      ]
     },
     "execution_count": 27,
     "metadata": {},
     "output_type": "execute_result"
    }
   ],
   "source": [
    "x_train,x_val,y_train,y_val = train_test_split(x_train,y_train,\n",
    "                                                random_state=100,stratify=y_train,\n",
    "                                                 test_size=0.2)\n",
    "\n",
    "x_train.shape,x_val.shape,y_train.shape,y_val.shape"
   ]
  },
  {
   "cell_type": "code",
   "execution_count": 33,
   "id": "20225fcb",
   "metadata": {},
   "outputs": [
    {
     "data": {
      "text/plain": [
       "0"
      ]
     },
     "execution_count": 33,
     "metadata": {},
     "output_type": "execute_result"
    }
   ],
   "source": [
    "# import os\n",
    "\n",
    "# os.system('mkdir -p data/raw')"
   ]
  },
  {
   "cell_type": "code",
   "execution_count": 215,
   "id": "2af73726",
   "metadata": {},
   "outputs": [],
   "source": [
    "# x_train.drop(columns=dic['dropChurnPhaseColumns'],inplace=True)\n",
    "# x_test.drop(columns=dic['dropChurnPhaseColumns'],inplace=True)\n",
    "# x_val.drop(columns=dic['dropChurnPhaseColumns'],inplace=True)"
   ]
  },
  {
   "cell_type": "code",
   "execution_count": null,
   "id": "f87fdb23",
   "metadata": {},
   "outputs": [],
   "source": []
  },
  {
   "cell_type": "code",
   "execution_count": 218,
   "id": "02af5afb",
   "metadata": {},
   "outputs": [],
   "source": [
    "# x_train.to_csv('data/raw/x_train.csv',index=False)\n",
    "# y_train.to_csv('data/raw/y_train.csv',index=False)\n",
    "\n",
    "# x_test.to_csv('data/raw/x_test.csv',index=False)\n",
    "# y_test.to_csv('data/raw/y_test.csv',index=False)\n",
    "\n",
    "# x_val.to_csv('data/raw/x_val.csv',index=False)\n",
    "# y_val.to_csv('data/raw/y_val.csv',index=False)"
   ]
  },
  {
   "cell_type": "code",
   "execution_count": 36,
   "id": "f5a4b79e",
   "metadata": {},
   "outputs": [],
   "source": [
    "date_columns = x_train.filter(regex='date').columns.to_list()"
   ]
  },
  {
   "cell_type": "code",
   "execution_count": 38,
   "id": "a624ffce",
   "metadata": {},
   "outputs": [],
   "source": [
    "dic_config = {}\n",
    "#dic_config['date_columns']=date_columns"
   ]
  },
  {
   "cell_type": "code",
   "execution_count": 95,
   "id": "89dfc5c4",
   "metadata": {},
   "outputs": [],
   "source": [
    "def convertToDateTime(x):\n",
    "    \n",
    "    x = pd.to_datetime(x)\n",
    "    return x\n",
    "\n"
   ]
  },
  {
   "cell_type": "code",
   "execution_count": 124,
   "id": "d8ee103e",
   "metadata": {},
   "outputs": [],
   "source": [
    "xx = x_train.copy()\n",
    "xx[date_columns] = xx[date_columns].apply(convertToDateTime,raw=True)"
   ]
  },
  {
   "cell_type": "code",
   "execution_count": 125,
   "id": "70a051d6",
   "metadata": {},
   "outputs": [],
   "source": [
    "# Renaming columns \n",
    "dic_rename = {'jun_vbc_3g' : 'vbc_3g_6',\n",
    "                'jul_vbc_3g' : 'vbc_3g_7',\n",
    "                'aug_vbc_3g' : 'vbc_3g_8', \n",
    "                'sep_vbc_3g' : 'vbc_3g_9'}\n",
    "\n",
    "#dic_config['rename'] = dic_rename\n",
    "\n",
    "xx = xx.rename(dic_rename, axis=1)"
   ]
  },
  {
   "cell_type": "code",
   "execution_count": 126,
   "id": "4b51cb3b",
   "metadata": {},
   "outputs": [
    {
     "data": {
      "text/plain": [
       "(19200, 222)"
      ]
     },
     "execution_count": 126,
     "metadata": {},
     "output_type": "execute_result"
    }
   ],
   "source": [
    "xx.shape"
   ]
  },
  {
   "cell_type": "code",
   "execution_count": 127,
   "id": "0dda0524",
   "metadata": {},
   "outputs": [],
   "source": [
    "cat_columns = [x for x in xx.columns if (xx[x].nunique()<=30 and xx[x].dtype in \n",
    "                                         ['int','float'] and xx[x].nunique() != 1 ) ]\n",
    "\n",
    "single_value_columns = [x for x in xx.columns if xx[x].nunique() == 1]"
   ]
  },
  {
   "cell_type": "code",
   "execution_count": null,
   "id": "771b31cc",
   "metadata": {},
   "outputs": [],
   "source": []
  },
  {
   "cell_type": "code",
   "execution_count": 128,
   "id": "5f1756e2",
   "metadata": {},
   "outputs": [],
   "source": [
    "# dic_config['categorical'] = cat_columns\n",
    "# dic_config['drop'] = single_value_columns\n"
   ]
  },
  {
   "cell_type": "code",
   "execution_count": 119,
   "id": "d5046cb1",
   "metadata": {},
   "outputs": [],
   "source": [
    "#dropping single value customers\n",
    "#xx.drop(columns=single_value_columns,inplace=True)"
   ]
  },
  {
   "cell_type": "code",
   "execution_count": 136,
   "id": "b6c42cb2",
   "metadata": {},
   "outputs": [],
   "source": [
    "xx.drop(columns=dic_config['drop']+dic_config['dropChurnPhaseColumns'],inplace=True)"
   ]
  },
  {
   "cell_type": "code",
   "execution_count": 134,
   "id": "27141f82",
   "metadata": {},
   "outputs": [],
   "source": [
    "#dic_config['dropChurnPhaseColumns'] = list(dic_config['dropChurnPhaseColumns'])"
   ]
  },
  {
   "cell_type": "code",
   "execution_count": 138,
   "id": "9aabc062",
   "metadata": {},
   "outputs": [],
   "source": [
    "# change datatype of columns with less than 30 unique to object\n",
    "\n",
    "# dic_config['categorical'] = list(set(dic_config['categorical'])- \n",
    "#                      set(['monthly_2g_9', 'sachet_2g_9', 'monthly_3g_9', 'sachet_3g_9']))\n",
    "\n",
    "xx[dic_config['categorical']] = xx[dic_config['categorical']].astype('O')"
   ]
  },
  {
   "cell_type": "code",
   "execution_count": 26,
   "id": "2b35a0a9",
   "metadata": {},
   "outputs": [],
   "source": [
    "# missing values "
   ]
  },
  {
   "cell_type": "code",
   "execution_count": 58,
   "id": "2e65fa16",
   "metadata": {},
   "outputs": [],
   "source": [
    "# droping columns with more than 40% missing\n",
    "#drop_col = [x for x in xx.columns if xx[x].isnull().mean()>0.40]"
   ]
  },
  {
   "cell_type": "code",
   "execution_count": 60,
   "id": "6fdde539",
   "metadata": {},
   "outputs": [
    {
     "data": {
      "text/plain": [
       "['circle_id',\n",
       " 'loc_og_t2o_mou',\n",
       " 'std_og_t2o_mou',\n",
       " 'loc_ic_t2o_mou',\n",
       " 'last_date_of_month_6',\n",
       " 'last_date_of_month_7',\n",
       " 'last_date_of_month_8',\n",
       " 'last_date_of_month_9',\n",
       " 'std_og_t2c_mou_6',\n",
       " 'std_og_t2c_mou_7',\n",
       " 'std_og_t2c_mou_8',\n",
       " 'std_og_t2c_mou_9',\n",
       " 'std_ic_t2o_mou_6',\n",
       " 'std_ic_t2o_mou_7',\n",
       " 'std_ic_t2o_mou_8',\n",
       " 'std_ic_t2o_mou_9',\n",
       " 'date_of_last_rech_data_6',\n",
       " 'date_of_last_rech_data_7',\n",
       " 'date_of_last_rech_data_8',\n",
       " 'date_of_last_rech_data_9',\n",
       " 'max_rech_data_6',\n",
       " 'max_rech_data_7',\n",
       " 'max_rech_data_8',\n",
       " 'max_rech_data_9',\n",
       " 'count_rech_2g_6',\n",
       " 'count_rech_2g_7',\n",
       " 'count_rech_2g_8',\n",
       " 'count_rech_2g_9',\n",
       " 'count_rech_3g_6',\n",
       " 'count_rech_3g_7',\n",
       " 'count_rech_3g_8',\n",
       " 'count_rech_3g_9',\n",
       " 'arpu_3g_6',\n",
       " 'arpu_3g_7',\n",
       " 'arpu_3g_8',\n",
       " 'arpu_3g_9',\n",
       " 'arpu_2g_6',\n",
       " 'arpu_2g_7',\n",
       " 'arpu_2g_8',\n",
       " 'arpu_2g_9',\n",
       " 'night_pck_user_6',\n",
       " 'night_pck_user_7',\n",
       " 'night_pck_user_8',\n",
       " 'night_pck_user_9',\n",
       " 'fb_user_6',\n",
       " 'fb_user_7',\n",
       " 'fb_user_8',\n",
       " 'fb_user_9',\n",
       " 'total_rech_data_amt_6',\n",
       " 'total_rech_data_amt_7',\n",
       " 'total_rech_data_amt_8',\n",
       " 'total_rech_data_amt_9']"
      ]
     },
     "execution_count": 60,
     "metadata": {},
     "output_type": "execute_result"
    }
   ],
   "source": [
    "# dic_config['drop'].extend(drop_col)\n",
    "# dic_config['drop']"
   ]
  },
  {
   "cell_type": "code",
   "execution_count": 139,
   "id": "f9828f35",
   "metadata": {},
   "outputs": [
    {
     "data": {
      "text/plain": [
       "(19200, 164)"
      ]
     },
     "execution_count": 139,
     "metadata": {},
     "output_type": "execute_result"
    }
   ],
   "source": [
    "xx.shape"
   ]
  },
  {
   "cell_type": "code",
   "execution_count": 140,
   "id": "7268d51d",
   "metadata": {},
   "outputs": [],
   "source": [
    "# null = np.round(xx.filter(regex='6$').isnull().mean()*100,2)\n",
    "# null = null.to_frame()\n",
    "# null"
   ]
  },
  {
   "cell_type": "code",
   "execution_count": 64,
   "id": "6151bda3",
   "metadata": {},
   "outputs": [],
   "source": [
    "#null_random = ['date_of_last_rech_6']"
   ]
  },
  {
   "cell_type": "code",
   "execution_count": 66,
   "id": "262d0555",
   "metadata": {},
   "outputs": [],
   "source": [
    "#col = list(null.index[list((null == 1.80)[0].values)])"
   ]
  },
  {
   "cell_type": "code",
   "execution_count": 68,
   "id": "52c88084",
   "metadata": {},
   "outputs": [],
   "source": [
    "#dic_config['nullFillZero']=col"
   ]
  },
  {
   "cell_type": "code",
   "execution_count": 141,
   "id": "2dbccf9d",
   "metadata": {},
   "outputs": [],
   "source": [
    "# null = np.round(xx.filter(regex='7$').isnull().mean()*100,2)\n",
    "# null = null.to_frame()\n",
    "# null"
   ]
  },
  {
   "cell_type": "code",
   "execution_count": 142,
   "id": "130d4f56",
   "metadata": {},
   "outputs": [],
   "source": [
    "# null_random.append('date_of_last_rech_7')\n",
    "# null_random"
   ]
  },
  {
   "cell_type": "code",
   "execution_count": 71,
   "id": "9b96dfbe",
   "metadata": {},
   "outputs": [],
   "source": [
    "#col = list(null.index[list((null == 1.78)[0].values)])"
   ]
  },
  {
   "cell_type": "code",
   "execution_count": 73,
   "id": "75e78309",
   "metadata": {},
   "outputs": [],
   "source": [
    "#dic_config['nullFillZero'].extend(col)"
   ]
  },
  {
   "cell_type": "code",
   "execution_count": 143,
   "id": "8efa073d",
   "metadata": {},
   "outputs": [],
   "source": [
    "# null = np.round(xx.filter(regex='8$').isnull().mean()*100,2)\n",
    "# null = null.to_frame()\n",
    "# null"
   ]
  },
  {
   "cell_type": "code",
   "execution_count": 75,
   "id": "ce0f064f",
   "metadata": {},
   "outputs": [
    {
     "data": {
      "text/plain": [
       "['date_of_last_rech_6', 'date_of_last_rech_7', 'date_of_last_rech_8']"
      ]
     },
     "execution_count": 75,
     "metadata": {},
     "output_type": "execute_result"
    }
   ],
   "source": [
    "# null_random.append('date_of_last_rech_8')\n",
    "# null_random"
   ]
  },
  {
   "cell_type": "code",
   "execution_count": 76,
   "id": "3a655790",
   "metadata": {},
   "outputs": [],
   "source": [
    "#col = list(null.index[list((null == 3.94)[0].values)])"
   ]
  },
  {
   "cell_type": "code",
   "execution_count": 78,
   "id": "5fafbc85",
   "metadata": {},
   "outputs": [],
   "source": [
    "#dic_config['nullFillZero'].extend(col)"
   ]
  },
  {
   "cell_type": "code",
   "execution_count": 82,
   "id": "69810a4b",
   "metadata": {},
   "outputs": [],
   "source": [
    "#dic_config['nullFillMode']=null_random"
   ]
  },
  {
   "cell_type": "code",
   "execution_count": 80,
   "id": "db69304c",
   "metadata": {},
   "outputs": [],
   "source": [
    "# dropping columns releted to 9th month\n",
    "\n",
    "# churn_phase_columns = xx.filter(regex='9$').columns\n",
    "# #df.drop(columns=churn_phase_columns, inplace=True)\n",
    "# dic_config['dropChurnPhaseColumns']=churn_phase_columns"
   ]
  },
  {
   "cell_type": "code",
   "execution_count": 144,
   "id": "426f0f33",
   "metadata": {},
   "outputs": [],
   "source": [
    "# dic_config['drop'].extend(['mobile_number'])\n",
    "# dic_config['drop']"
   ]
  },
  {
   "cell_type": "code",
   "execution_count": 85,
   "id": "c1932b8a",
   "metadata": {},
   "outputs": [],
   "source": [
    "#c = pd.read_csv('data/raw/x_train.csv')"
   ]
  },
  {
   "cell_type": "code",
   "execution_count": 145,
   "id": "283bc889",
   "metadata": {},
   "outputs": [],
   "source": [
    "# import yaml\n",
    "\n",
    "# with open('config2.yaml','w') as f:\n",
    "#     yaml.safe_dump(dic_config,f)"
   ]
  },
  {
   "cell_type": "code",
   "execution_count": 186,
   "id": "62fbe42d",
   "metadata": {},
   "outputs": [],
   "source": [
    "with open('config2.yaml','r') as f:\n",
    "     dic = yaml.safe_load(f)"
   ]
  },
  {
   "cell_type": "code",
   "execution_count": 178,
   "id": "f8338ad1",
   "metadata": {},
   "outputs": [
    {
     "data": {
      "text/plain": [
       "(19200, 222)"
      ]
     },
     "execution_count": 178,
     "metadata": {},
     "output_type": "execute_result"
    }
   ],
   "source": [
    "xx = x_train.copy()\n",
    "xx.shape"
   ]
  },
  {
   "cell_type": "code",
   "execution_count": 179,
   "id": "bc4f1ec4",
   "metadata": {},
   "outputs": [
    {
     "data": {
      "text/plain": [
       "(19200, 127)"
      ]
     },
     "execution_count": 179,
     "metadata": {},
     "output_type": "execute_result"
    }
   ],
   "source": [
    "xx.drop(columns = dic['drop']+dic['dropChurnPhaseColumns'],inplace=True)\n",
    "xx.shape"
   ]
  },
  {
   "cell_type": "code",
   "execution_count": 200,
   "id": "14b937f2",
   "metadata": {},
   "outputs": [
    {
     "data": {
      "text/plain": [
       "{'aug_vbc_3g': 'vbc_3g_8', 'jul_vbc_3g': 'vbc_3g_7', 'jun_vbc_3g': 'vbc_3g_6'}"
      ]
     },
     "execution_count": 200,
     "metadata": {},
     "output_type": "execute_result"
    }
   ],
   "source": [
    "dic['rename']"
   ]
  },
  {
   "cell_type": "code",
   "execution_count": 202,
   "id": "4688a06b",
   "metadata": {},
   "outputs": [],
   "source": [
    "xx.rename(columns=dic['rename'],inplace=True)"
   ]
  },
  {
   "cell_type": "code",
   "execution_count": 204,
   "id": "257c35df",
   "metadata": {},
   "outputs": [
    {
     "data": {
      "text/html": [
       "<div>\n",
       "<style scoped>\n",
       "    .dataframe tbody tr th:only-of-type {\n",
       "        vertical-align: middle;\n",
       "    }\n",
       "\n",
       "    .dataframe tbody tr th {\n",
       "        vertical-align: top;\n",
       "    }\n",
       "\n",
       "    .dataframe thead th {\n",
       "        text-align: right;\n",
       "    }\n",
       "</style>\n",
       "<table border=\"1\" class=\"dataframe\">\n",
       "  <thead>\n",
       "    <tr style=\"text-align: right;\">\n",
       "      <th></th>\n",
       "      <th>vbc_3g_8</th>\n",
       "      <th>vbc_3g_7</th>\n",
       "      <th>vbc_3g_6</th>\n",
       "    </tr>\n",
       "  </thead>\n",
       "  <tbody>\n",
       "    <tr>\n",
       "      <th>25836</th>\n",
       "      <td>0.00</td>\n",
       "      <td>0.00</td>\n",
       "      <td>0.00</td>\n",
       "    </tr>\n",
       "    <tr>\n",
       "      <th>87136</th>\n",
       "      <td>0.00</td>\n",
       "      <td>0.00</td>\n",
       "      <td>0.00</td>\n",
       "    </tr>\n",
       "    <tr>\n",
       "      <th>58063</th>\n",
       "      <td>0.00</td>\n",
       "      <td>0.00</td>\n",
       "      <td>0.00</td>\n",
       "    </tr>\n",
       "    <tr>\n",
       "      <th>70557</th>\n",
       "      <td>0.00</td>\n",
       "      <td>0.00</td>\n",
       "      <td>0.00</td>\n",
       "    </tr>\n",
       "    <tr>\n",
       "      <th>85963</th>\n",
       "      <td>0.00</td>\n",
       "      <td>0.00</td>\n",
       "      <td>0.00</td>\n",
       "    </tr>\n",
       "    <tr>\n",
       "      <th>...</th>\n",
       "      <td>...</td>\n",
       "      <td>...</td>\n",
       "      <td>...</td>\n",
       "    </tr>\n",
       "    <tr>\n",
       "      <th>66275</th>\n",
       "      <td>0.00</td>\n",
       "      <td>0.00</td>\n",
       "      <td>0.00</td>\n",
       "    </tr>\n",
       "    <tr>\n",
       "      <th>33778</th>\n",
       "      <td>0.00</td>\n",
       "      <td>0.00</td>\n",
       "      <td>0.00</td>\n",
       "    </tr>\n",
       "    <tr>\n",
       "      <th>73946</th>\n",
       "      <td>0.00</td>\n",
       "      <td>0.00</td>\n",
       "      <td>0.00</td>\n",
       "    </tr>\n",
       "    <tr>\n",
       "      <th>15831</th>\n",
       "      <td>0.00</td>\n",
       "      <td>0.00</td>\n",
       "      <td>0.00</td>\n",
       "    </tr>\n",
       "    <tr>\n",
       "      <th>80852</th>\n",
       "      <td>291.69</td>\n",
       "      <td>1345.92</td>\n",
       "      <td>3230.94</td>\n",
       "    </tr>\n",
       "  </tbody>\n",
       "</table>\n",
       "<p>19200 rows × 3 columns</p>\n",
       "</div>"
      ],
      "text/plain": [
       "       vbc_3g_8  vbc_3g_7  vbc_3g_6\n",
       "25836      0.00      0.00      0.00\n",
       "87136      0.00      0.00      0.00\n",
       "58063      0.00      0.00      0.00\n",
       "70557      0.00      0.00      0.00\n",
       "85963      0.00      0.00      0.00\n",
       "...         ...       ...       ...\n",
       "66275      0.00      0.00      0.00\n",
       "33778      0.00      0.00      0.00\n",
       "73946      0.00      0.00      0.00\n",
       "15831      0.00      0.00      0.00\n",
       "80852    291.69   1345.92   3230.94\n",
       "\n",
       "[19200 rows x 3 columns]"
      ]
     },
     "execution_count": 204,
     "metadata": {},
     "output_type": "execute_result"
    }
   ],
   "source": [
    "xx[dic['rename'].values()]"
   ]
  },
  {
   "cell_type": "code",
   "execution_count": 182,
   "id": "b2174928",
   "metadata": {},
   "outputs": [],
   "source": [
    "def convertToDateTime(x):\n",
    "    \n",
    "    x = pd.to_datetime(x)\n",
    "    return x\n",
    "\n",
    "#xx[dic['date_columns']] = xx[dic['date_columns']].apply(convertToDateTime)"
   ]
  },
  {
   "cell_type": "code",
   "execution_count": 187,
   "id": "0d31d084",
   "metadata": {},
   "outputs": [],
   "source": [
    "xx[dic['categorical']] = xx[dic['categorical']].astype('O')"
   ]
  },
  {
   "cell_type": "code",
   "execution_count": 189,
   "id": "58bae193",
   "metadata": {},
   "outputs": [],
   "source": [
    "num = [x for x in xx.columns if (xx[x].dtype == 'float64' or xx[x].dtype == 'int64')]"
   ]
  },
  {
   "cell_type": "code",
   "execution_count": 193,
   "id": "164453e8",
   "metadata": {},
   "outputs": [],
   "source": [
    "dic['numerical']=num"
   ]
  },
  {
   "cell_type": "code",
   "execution_count": 206,
   "id": "37dcaae9",
   "metadata": {},
   "outputs": [],
   "source": [
    "from sklearn.base import BaseEstimator,TransformerMixin"
   ]
  },
  {
   "cell_type": "code",
   "execution_count": 248,
   "id": "b6849fad",
   "metadata": {},
   "outputs": [],
   "source": [
    "class dropAndRenameColumns(BaseEstimator,TransformerMixin):\n",
    "    \n",
    "    def __init__(self,features,features_rename,categorical):\n",
    "        \n",
    "        super().__init__()\n",
    "        self.features = features\n",
    "        self.features_rename = features_rename\n",
    "        self.categorical = categorical\n",
    "        \n",
    "    def fit(self,df):\n",
    "        \n",
    "        return self\n",
    "    \n",
    "    \n",
    "    def transform(self,df):\n",
    "        \n",
    "        x = df.copy()\n",
    "        x = x.rename(columns= self.features_rename)\n",
    "        x[self.categorical]= x[self.categorical].astype('O')\n",
    "        x.drop(columns= self.features,inplace=True)\n",
    "        return x\n",
    "        \n",
    "    "
   ]
  },
  {
   "cell_type": "code",
   "execution_count": 270,
   "id": "f09963e1",
   "metadata": {},
   "outputs": [
    {
     "data": {
      "text/plain": [
       "(19200, 168)"
      ]
     },
     "execution_count": 270,
     "metadata": {},
     "output_type": "execute_result"
    }
   ],
   "source": [
    "with open('config2.yaml','r') as f:\n",
    "     dic = yaml.safe_load(f)\n",
    "        \n",
    "x_train = pd.read_csv('data/raw/x_train.csv')\n",
    "x_train.shape"
   ]
  },
  {
   "cell_type": "code",
   "execution_count": 271,
   "id": "7b4d53cc",
   "metadata": {},
   "outputs": [
    {
     "data": {
      "text/plain": [
       "(19200, 127)"
      ]
     },
     "execution_count": 271,
     "metadata": {},
     "output_type": "execute_result"
    }
   ],
   "source": [
    "d = dropAndRenameColumns(features=dic['drop'],features_rename=dic['rename'],\n",
    "                        categorical=dic['categorical'])\n",
    "xx = x_train.copy()\n",
    "xx = d.fit_transform(xx)\n",
    "xx.shape"
   ]
  },
  {
   "cell_type": "code",
   "execution_count": 272,
   "id": "ff7b4726",
   "metadata": {},
   "outputs": [
    {
     "data": {
      "text/plain": [
       "monthly_3g_6           object\n",
       "monthly_2g_7           object\n",
       "monthly_2g_8           object\n",
       "sachet_2g_6            object\n",
       "sachet_3g_7            object\n",
       "monthly_3g_8           object\n",
       "monthly_2g_6           object\n",
       "sachet_3g_8            object\n",
       "sachet_3g_6            object\n",
       "monthly_3g_7           object\n",
       "date_of_last_rech_6    object\n",
       "date_of_last_rech_7    object\n",
       "date_of_last_rech_8    object\n",
       "dtype: object"
      ]
     },
     "execution_count": 272,
     "metadata": {},
     "output_type": "execute_result"
    }
   ],
   "source": [
    "xx[dic['categorical']].dtypes"
   ]
  },
  {
   "cell_type": "code",
   "execution_count": 273,
   "id": "526d254d",
   "metadata": {},
   "outputs": [],
   "source": [
    "class createFeatures(BaseEstimator,TransformerMixin):\n",
    "    \n",
    "    def __init__(self):\n",
    "        \n",
    "        super().__init__()\n",
    "        self\n",
    "        \n",
    "    def fit(self,df):\n",
    "        \n",
    "        return self\n",
    "    \n",
    "    \n",
    "    def transform(self,df):\n",
    "        \n",
    "        xx = df.copy()\n",
    "        \n",
    "        # Derived variables to measure change in usage \n",
    "\n",
    "        # Usage \n",
    "        xx['delta_vol_3g'] = xx['vol_3g_mb_8'] - xx['vol_3g_mb_6']\\\n",
    "                                .add(xx['vol_3g_mb_7']).div(2)\n",
    "        \n",
    "        xx['delta_total_og_mou'] = xx['total_og_mou_8'] - xx['total_og_mou_6']\\\n",
    "                                        .add(xx['total_og_mou_7']).div(2)\n",
    "        \n",
    "        xx['delta_total_ic_mou'] = xx['total_ic_mou_8'] - xx['total_ic_mou_6']\\\n",
    "                                    .add(xx['total_ic_mou_7']).div(2)\n",
    "        \n",
    "        xx['delta_vbc_3g'] = xx['vbc_3g_8'] - xx['vbc_3g_6'].add(xx['vbc_3g_7']).div(2)\n",
    "\n",
    "        # Revenue \n",
    "        xx['delta_arpu'] = xx['arpu_8'] - xx['arpu_6'].add(xx['arpu_7']).div(2)\n",
    "        xx['delta_total_rech_amt'] = xx['total_rech_amt_8'] - \\\n",
    "                                xx['total_rech_amt_6'].add(xx['total_rech_amt_7']).div(2)\n",
    "        \n",
    "        \n",
    "        \n",
    "        xx.drop(columns=[\n",
    "                 'vol_2g_mb_8', 'vol_2g_mb_6', 'vol_2g_mb_7','vol_3g_mb_8'  ,\n",
    "            'vol_3g_mb_6', 'vol_3g_mb_7' ,\n",
    "            'total_og_mou_8','total_og_mou_6', 'total_og_mou_7', \n",
    "            'total_ic_mou_8','total_ic_mou_6', 'total_ic_mou_7',\n",
    "            'vbc_3g_8','vbc_3g_6','vbc_3g_7','arpu_8','arpu_6','arpu_7',\n",
    "            'total_rech_amt_8', 'total_rech_amt_6', 'total_rech_amt_7'\n",
    "    \n",
    "            ], inplace=True)\n",
    "        \n",
    "        return xx\n",
    "        \n",
    "    "
   ]
  },
  {
   "cell_type": "code",
   "execution_count": 274,
   "id": "4858ae22",
   "metadata": {},
   "outputs": [
    {
     "data": {
      "text/plain": [
       "(19200, 112)"
      ]
     },
     "execution_count": 274,
     "metadata": {},
     "output_type": "execute_result"
    }
   ],
   "source": [
    "m = createFeatures()\n",
    "xx = m.fit_transform(xx)\n",
    "xx.shape"
   ]
  },
  {
   "cell_type": "code",
   "execution_count": 275,
   "id": "2c24fe86",
   "metadata": {},
   "outputs": [],
   "source": [
    "num2 = [x for x in xx.columns if xx[x].dtype != 'O']"
   ]
  },
  {
   "cell_type": "code",
   "execution_count": 278,
   "id": "c7b28b72",
   "metadata": {},
   "outputs": [],
   "source": [
    "#dic['numerical'] = num2\n",
    "# with open('config3.yaml','w') as f:\n",
    "#      yaml.safe_dump(dic,f)"
   ]
  },
  {
   "cell_type": "code",
   "execution_count": 279,
   "id": "d8f08dc4",
   "metadata": {},
   "outputs": [],
   "source": [
    "class sklearnWrapper(BaseEstimator,TransformerMixin):\n",
    "    \n",
    "    def __init__(self,features,transformer):\n",
    "        super().__init__()\n",
    "        \n",
    "        self.features = features\n",
    "        self.transformer = transformer\n",
    "        \n",
    "    def fit(self,df):\n",
    "        x = df.copy()\n",
    "        self.transformer.fit(x[self.features])\n",
    "        \n",
    "        return self\n",
    "    \n",
    "    def transform(self,df):\n",
    "        x = df.copy()\n",
    "        x[self.features] = self.transformer.transform(x[self.features])\n",
    "        \n",
    "        return x"
   ]
  },
  {
   "cell_type": "code",
   "execution_count": 280,
   "id": "bf23ee7d",
   "metadata": {},
   "outputs": [],
   "source": [
    "from sklearn.impute import SimpleImputer"
   ]
  },
  {
   "cell_type": "code",
   "execution_count": 283,
   "id": "8616f1c7",
   "metadata": {},
   "outputs": [],
   "source": [
    "t = sklearnWrapper(features=dic['nullFillZero'],\n",
    "                   transformer=SimpleImputer(strategy='constant',fill_value=0) )"
   ]
  },
  {
   "cell_type": "code",
   "execution_count": 287,
   "id": "95460f87",
   "metadata": {},
   "outputs": [
    {
     "data": {
      "text/plain": [
       "onnet_mou_6             0.018021\n",
       "onnet_mou_7             0.017760\n",
       "onnet_mou_8             0.039375\n",
       "offnet_mou_6            0.018021\n",
       "offnet_mou_7            0.017760\n",
       "offnet_mou_8            0.039375\n",
       "roam_ic_mou_6           0.018021\n",
       "roam_ic_mou_7           0.017760\n",
       "roam_ic_mou_8           0.039375\n",
       "roam_og_mou_6           0.018021\n",
       "roam_og_mou_7           0.017760\n",
       "roam_og_mou_8           0.039375\n",
       "loc_og_t2t_mou_6        0.018021\n",
       "loc_og_t2t_mou_7        0.017760\n",
       "loc_og_t2t_mou_8        0.039375\n",
       "loc_og_t2m_mou_6        0.018021\n",
       "loc_og_t2m_mou_7        0.017760\n",
       "loc_og_t2m_mou_8        0.039375\n",
       "loc_og_t2f_mou_6        0.018021\n",
       "loc_og_t2f_mou_7        0.017760\n",
       "loc_og_t2f_mou_8        0.039375\n",
       "loc_og_t2c_mou_6        0.018021\n",
       "loc_og_t2c_mou_7        0.017760\n",
       "loc_og_t2c_mou_8        0.039375\n",
       "loc_og_mou_6            0.018021\n",
       "loc_og_mou_7            0.017760\n",
       "loc_og_mou_8            0.039375\n",
       "std_og_t2t_mou_6        0.018021\n",
       "std_og_t2t_mou_7        0.017760\n",
       "std_og_t2t_mou_8        0.039375\n",
       "std_og_t2m_mou_6        0.018021\n",
       "std_og_t2m_mou_7        0.017760\n",
       "std_og_t2m_mou_8        0.039375\n",
       "std_og_t2f_mou_6        0.018021\n",
       "std_og_t2f_mou_7        0.017760\n",
       "std_og_t2f_mou_8        0.039375\n",
       "std_og_mou_6            0.018021\n",
       "std_og_mou_7            0.017760\n",
       "std_og_mou_8            0.039375\n",
       "isd_og_mou_6            0.018021\n",
       "isd_og_mou_7            0.017760\n",
       "isd_og_mou_8            0.039375\n",
       "spl_og_mou_6            0.018021\n",
       "spl_og_mou_7            0.017760\n",
       "spl_og_mou_8            0.039375\n",
       "og_others_6             0.018021\n",
       "og_others_7             0.017760\n",
       "og_others_8             0.039375\n",
       "loc_ic_t2t_mou_6        0.018021\n",
       "loc_ic_t2t_mou_7        0.017760\n",
       "loc_ic_t2t_mou_8        0.039375\n",
       "loc_ic_t2m_mou_6        0.018021\n",
       "loc_ic_t2m_mou_7        0.017760\n",
       "loc_ic_t2m_mou_8        0.039375\n",
       "loc_ic_t2f_mou_6        0.018021\n",
       "loc_ic_t2f_mou_7        0.017760\n",
       "loc_ic_t2f_mou_8        0.039375\n",
       "loc_ic_mou_6            0.018021\n",
       "loc_ic_mou_7            0.017760\n",
       "loc_ic_mou_8            0.039375\n",
       "std_ic_t2t_mou_6        0.018021\n",
       "std_ic_t2t_mou_7        0.017760\n",
       "std_ic_t2t_mou_8        0.039375\n",
       "std_ic_t2m_mou_6        0.018021\n",
       "std_ic_t2m_mou_7        0.017760\n",
       "std_ic_t2m_mou_8        0.039375\n",
       "std_ic_t2f_mou_6        0.018021\n",
       "std_ic_t2f_mou_7        0.017760\n",
       "std_ic_t2f_mou_8        0.039375\n",
       "std_ic_mou_6            0.018021\n",
       "std_ic_mou_7            0.017760\n",
       "std_ic_mou_8            0.039375\n",
       "spl_ic_mou_6            0.018021\n",
       "spl_ic_mou_7            0.017760\n",
       "spl_ic_mou_8            0.039375\n",
       "isd_ic_mou_6            0.018021\n",
       "isd_ic_mou_7            0.017760\n",
       "isd_ic_mou_8            0.039375\n",
       "ic_others_6             0.018021\n",
       "ic_others_7             0.017760\n",
       "ic_others_8             0.039375\n",
       "total_rech_num_6        0.000000\n",
       "total_rech_num_7        0.000000\n",
       "total_rech_num_8        0.000000\n",
       "max_rech_amt_6          0.000000\n",
       "max_rech_amt_7          0.000000\n",
       "max_rech_amt_8          0.000000\n",
       "date_of_last_rech_6     0.002240\n",
       "date_of_last_rech_7     0.003229\n",
       "date_of_last_rech_8     0.018958\n",
       "last_day_rch_amt_6      0.000000\n",
       "last_day_rch_amt_7      0.000000\n",
       "last_day_rch_amt_8      0.000000\n",
       "monthly_2g_6            0.000000\n",
       "monthly_2g_7            0.000000\n",
       "monthly_2g_8            0.000000\n",
       "sachet_2g_6             0.000000\n",
       "sachet_2g_7             0.000000\n",
       "sachet_2g_8             0.000000\n",
       "monthly_3g_6            0.000000\n",
       "monthly_3g_7            0.000000\n",
       "monthly_3g_8            0.000000\n",
       "sachet_3g_6             0.000000\n",
       "sachet_3g_7             0.000000\n",
       "sachet_3g_8             0.000000\n",
       "aon                     0.000000\n",
       "delta_vol_3g            0.000000\n",
       "delta_total_og_mou      0.000000\n",
       "delta_total_ic_mou      0.000000\n",
       "delta_vbc_3g            0.000000\n",
       "delta_arpu              0.000000\n",
       "delta_total_rech_amt    0.000000\n",
       "dtype: float64"
      ]
     },
     "execution_count": 287,
     "metadata": {},
     "output_type": "execute_result"
    }
   ],
   "source": [
    "pd.set_option('display.max_rows',130)\n",
    "xx.isnull().mean()"
   ]
  },
  {
   "cell_type": "code",
   "execution_count": 308,
   "id": "617f499f",
   "metadata": {},
   "outputs": [
    {
     "data": {
      "text/plain": [
       "onnet_mou_6             0.000000\n",
       "onnet_mou_7             0.000000\n",
       "onnet_mou_8             0.000000\n",
       "offnet_mou_6            0.000000\n",
       "offnet_mou_7            0.000000\n",
       "offnet_mou_8            0.000000\n",
       "roam_ic_mou_6           0.000000\n",
       "roam_ic_mou_7           0.000000\n",
       "roam_ic_mou_8           0.000000\n",
       "roam_og_mou_6           0.000000\n",
       "roam_og_mou_7           0.000000\n",
       "roam_og_mou_8           0.000000\n",
       "loc_og_t2t_mou_6        0.000000\n",
       "loc_og_t2t_mou_7        0.000000\n",
       "loc_og_t2t_mou_8        0.000000\n",
       "loc_og_t2m_mou_6        0.000000\n",
       "loc_og_t2m_mou_7        0.000000\n",
       "loc_og_t2m_mou_8        0.000000\n",
       "loc_og_t2f_mou_6        0.000000\n",
       "loc_og_t2f_mou_7        0.000000\n",
       "loc_og_t2f_mou_8        0.000000\n",
       "loc_og_t2c_mou_6        0.000000\n",
       "loc_og_t2c_mou_7        0.000000\n",
       "loc_og_t2c_mou_8        0.000000\n",
       "loc_og_mou_6            0.000000\n",
       "loc_og_mou_7            0.000000\n",
       "loc_og_mou_8            0.000000\n",
       "std_og_t2t_mou_6        0.000000\n",
       "std_og_t2t_mou_7        0.000000\n",
       "std_og_t2t_mou_8        0.000000\n",
       "std_og_t2m_mou_6        0.000000\n",
       "std_og_t2m_mou_7        0.000000\n",
       "std_og_t2m_mou_8        0.000000\n",
       "std_og_t2f_mou_6        0.000000\n",
       "std_og_t2f_mou_7        0.000000\n",
       "std_og_t2f_mou_8        0.000000\n",
       "std_og_mou_6            0.000000\n",
       "std_og_mou_7            0.000000\n",
       "std_og_mou_8            0.000000\n",
       "isd_og_mou_6            0.000000\n",
       "isd_og_mou_7            0.000000\n",
       "isd_og_mou_8            0.000000\n",
       "spl_og_mou_6            0.000000\n",
       "spl_og_mou_7            0.000000\n",
       "spl_og_mou_8            0.000000\n",
       "og_others_6             0.000000\n",
       "og_others_7             0.000000\n",
       "og_others_8             0.000000\n",
       "loc_ic_t2t_mou_6        0.000000\n",
       "loc_ic_t2t_mou_7        0.000000\n",
       "loc_ic_t2t_mou_8        0.000000\n",
       "loc_ic_t2m_mou_6        0.000000\n",
       "loc_ic_t2m_mou_7        0.000000\n",
       "loc_ic_t2m_mou_8        0.000000\n",
       "loc_ic_t2f_mou_6        0.000000\n",
       "loc_ic_t2f_mou_7        0.000000\n",
       "loc_ic_t2f_mou_8        0.000000\n",
       "loc_ic_mou_6            0.000000\n",
       "loc_ic_mou_7            0.000000\n",
       "loc_ic_mou_8            0.000000\n",
       "std_ic_t2t_mou_6        0.000000\n",
       "std_ic_t2t_mou_7        0.000000\n",
       "std_ic_t2t_mou_8        0.000000\n",
       "std_ic_t2m_mou_6        0.000000\n",
       "std_ic_t2m_mou_7        0.000000\n",
       "std_ic_t2m_mou_8        0.000000\n",
       "std_ic_t2f_mou_6        0.000000\n",
       "std_ic_t2f_mou_7        0.000000\n",
       "std_ic_t2f_mou_8        0.000000\n",
       "std_ic_mou_6            0.000000\n",
       "std_ic_mou_7            0.000000\n",
       "std_ic_mou_8            0.000000\n",
       "spl_ic_mou_6            0.000000\n",
       "spl_ic_mou_7            0.000000\n",
       "spl_ic_mou_8            0.000000\n",
       "isd_ic_mou_6            0.000000\n",
       "isd_ic_mou_7            0.000000\n",
       "isd_ic_mou_8            0.000000\n",
       "ic_others_6             0.000000\n",
       "ic_others_7             0.000000\n",
       "ic_others_8             0.000000\n",
       "total_rech_num_6        0.000000\n",
       "total_rech_num_7        0.000000\n",
       "total_rech_num_8        0.000000\n",
       "max_rech_amt_6          0.000000\n",
       "max_rech_amt_7          0.000000\n",
       "max_rech_amt_8          0.000000\n",
       "date_of_last_rech_6     0.002240\n",
       "date_of_last_rech_7     0.003229\n",
       "date_of_last_rech_8     0.018958\n",
       "last_day_rch_amt_6      0.000000\n",
       "last_day_rch_amt_7      0.000000\n",
       "last_day_rch_amt_8      0.000000\n",
       "monthly_2g_6            0.000000\n",
       "monthly_2g_7            0.000000\n",
       "monthly_2g_8            0.000000\n",
       "sachet_2g_6             0.000000\n",
       "sachet_2g_7             0.000000\n",
       "sachet_2g_8             0.000000\n",
       "monthly_3g_6            0.000000\n",
       "monthly_3g_7            0.000000\n",
       "monthly_3g_8            0.000000\n",
       "sachet_3g_6             0.000000\n",
       "sachet_3g_7             0.000000\n",
       "sachet_3g_8             0.000000\n",
       "aon                     0.000000\n",
       "delta_vol_3g            0.000000\n",
       "delta_total_og_mou      0.000000\n",
       "delta_total_ic_mou      0.000000\n",
       "delta_vbc_3g            0.000000\n",
       "delta_arpu              0.000000\n",
       "delta_total_rech_amt    0.000000\n",
       "dtype: float64"
      ]
     },
     "execution_count": 308,
     "metadata": {},
     "output_type": "execute_result"
    }
   ],
   "source": [
    "n = t.fit_transform(xx)\n",
    "n.isnull().mean()"
   ]
  },
  {
   "cell_type": "code",
   "execution_count": 309,
   "id": "af9e81c7",
   "metadata": {},
   "outputs": [],
   "source": [
    "t2 = sklearnWrapper(features=dic['nullFillMode'],\n",
    "                   transformer=SimpleImputer(strategy='most_frequent') )"
   ]
  },
  {
   "cell_type": "code",
   "execution_count": 310,
   "id": "399c7710",
   "metadata": {},
   "outputs": [],
   "source": [
    "n = t2.fit_transform(n)"
   ]
  },
  {
   "cell_type": "code",
   "execution_count": 311,
   "id": "bce648e1",
   "metadata": {},
   "outputs": [
    {
     "data": {
      "text/plain": [
       "onnet_mou_6             0.0\n",
       "onnet_mou_7             0.0\n",
       "onnet_mou_8             0.0\n",
       "offnet_mou_6            0.0\n",
       "offnet_mou_7            0.0\n",
       "offnet_mou_8            0.0\n",
       "roam_ic_mou_6           0.0\n",
       "roam_ic_mou_7           0.0\n",
       "roam_ic_mou_8           0.0\n",
       "roam_og_mou_6           0.0\n",
       "roam_og_mou_7           0.0\n",
       "roam_og_mou_8           0.0\n",
       "loc_og_t2t_mou_6        0.0\n",
       "loc_og_t2t_mou_7        0.0\n",
       "loc_og_t2t_mou_8        0.0\n",
       "loc_og_t2m_mou_6        0.0\n",
       "loc_og_t2m_mou_7        0.0\n",
       "loc_og_t2m_mou_8        0.0\n",
       "loc_og_t2f_mou_6        0.0\n",
       "loc_og_t2f_mou_7        0.0\n",
       "loc_og_t2f_mou_8        0.0\n",
       "loc_og_t2c_mou_6        0.0\n",
       "loc_og_t2c_mou_7        0.0\n",
       "loc_og_t2c_mou_8        0.0\n",
       "loc_og_mou_6            0.0\n",
       "loc_og_mou_7            0.0\n",
       "loc_og_mou_8            0.0\n",
       "std_og_t2t_mou_6        0.0\n",
       "std_og_t2t_mou_7        0.0\n",
       "std_og_t2t_mou_8        0.0\n",
       "std_og_t2m_mou_6        0.0\n",
       "std_og_t2m_mou_7        0.0\n",
       "std_og_t2m_mou_8        0.0\n",
       "std_og_t2f_mou_6        0.0\n",
       "std_og_t2f_mou_7        0.0\n",
       "std_og_t2f_mou_8        0.0\n",
       "std_og_mou_6            0.0\n",
       "std_og_mou_7            0.0\n",
       "std_og_mou_8            0.0\n",
       "isd_og_mou_6            0.0\n",
       "isd_og_mou_7            0.0\n",
       "isd_og_mou_8            0.0\n",
       "spl_og_mou_6            0.0\n",
       "spl_og_mou_7            0.0\n",
       "spl_og_mou_8            0.0\n",
       "og_others_6             0.0\n",
       "og_others_7             0.0\n",
       "og_others_8             0.0\n",
       "loc_ic_t2t_mou_6        0.0\n",
       "loc_ic_t2t_mou_7        0.0\n",
       "loc_ic_t2t_mou_8        0.0\n",
       "loc_ic_t2m_mou_6        0.0\n",
       "loc_ic_t2m_mou_7        0.0\n",
       "loc_ic_t2m_mou_8        0.0\n",
       "loc_ic_t2f_mou_6        0.0\n",
       "loc_ic_t2f_mou_7        0.0\n",
       "loc_ic_t2f_mou_8        0.0\n",
       "loc_ic_mou_6            0.0\n",
       "loc_ic_mou_7            0.0\n",
       "loc_ic_mou_8            0.0\n",
       "std_ic_t2t_mou_6        0.0\n",
       "std_ic_t2t_mou_7        0.0\n",
       "std_ic_t2t_mou_8        0.0\n",
       "std_ic_t2m_mou_6        0.0\n",
       "std_ic_t2m_mou_7        0.0\n",
       "std_ic_t2m_mou_8        0.0\n",
       "std_ic_t2f_mou_6        0.0\n",
       "std_ic_t2f_mou_7        0.0\n",
       "std_ic_t2f_mou_8        0.0\n",
       "std_ic_mou_6            0.0\n",
       "std_ic_mou_7            0.0\n",
       "std_ic_mou_8            0.0\n",
       "spl_ic_mou_6            0.0\n",
       "spl_ic_mou_7            0.0\n",
       "spl_ic_mou_8            0.0\n",
       "isd_ic_mou_6            0.0\n",
       "isd_ic_mou_7            0.0\n",
       "isd_ic_mou_8            0.0\n",
       "ic_others_6             0.0\n",
       "ic_others_7             0.0\n",
       "ic_others_8             0.0\n",
       "total_rech_num_6        0.0\n",
       "total_rech_num_7        0.0\n",
       "total_rech_num_8        0.0\n",
       "max_rech_amt_6          0.0\n",
       "max_rech_amt_7          0.0\n",
       "max_rech_amt_8          0.0\n",
       "date_of_last_rech_6     0.0\n",
       "date_of_last_rech_7     0.0\n",
       "date_of_last_rech_8     0.0\n",
       "last_day_rch_amt_6      0.0\n",
       "last_day_rch_amt_7      0.0\n",
       "last_day_rch_amt_8      0.0\n",
       "monthly_2g_6            0.0\n",
       "monthly_2g_7            0.0\n",
       "monthly_2g_8            0.0\n",
       "sachet_2g_6             0.0\n",
       "sachet_2g_7             0.0\n",
       "sachet_2g_8             0.0\n",
       "monthly_3g_6            0.0\n",
       "monthly_3g_7            0.0\n",
       "monthly_3g_8            0.0\n",
       "sachet_3g_6             0.0\n",
       "sachet_3g_7             0.0\n",
       "sachet_3g_8             0.0\n",
       "aon                     0.0\n",
       "delta_vol_3g            0.0\n",
       "delta_total_og_mou      0.0\n",
       "delta_total_ic_mou      0.0\n",
       "delta_vbc_3g            0.0\n",
       "delta_arpu              0.0\n",
       "delta_total_rech_amt    0.0\n",
       "dtype: float64"
      ]
     },
     "execution_count": 311,
     "metadata": {},
     "output_type": "execute_result"
    }
   ],
   "source": [
    "n.isnull().mean()"
   ]
  },
  {
   "cell_type": "code",
   "execution_count": 301,
   "id": "f0fe1d3c",
   "metadata": {},
   "outputs": [],
   "source": [
    "from feature_engine.encoding import RareLabelEncoder\n",
    "from feature_engine.outliers import Winsorizer\n",
    "from sklearn.preprocessing import StandardScaler\n",
    "from feature_engine.encoding import OneHotEncoder"
   ]
  },
  {
   "cell_type": "code",
   "execution_count": 312,
   "id": "363522a7",
   "metadata": {},
   "outputs": [],
   "source": [
    "rare = RareLabelEncoder(tol=0.01,n_categories=3,variables=dic['categorical'])\n"
   ]
  },
  {
   "cell_type": "code",
   "execution_count": 298,
   "id": "a379ddd7",
   "metadata": {},
   "outputs": [
    {
     "data": {
      "text/plain": [
       "monthly_3g_6           12\n",
       "monthly_2g_7            6\n",
       "monthly_2g_8            6\n",
       "sachet_2g_6            29\n",
       "sachet_3g_7            26\n",
       "monthly_3g_8           11\n",
       "monthly_2g_6            5\n",
       "sachet_3g_8            26\n",
       "sachet_3g_6            24\n",
       "monthly_3g_7           12\n",
       "date_of_last_rech_6    30\n",
       "date_of_last_rech_7    31\n",
       "date_of_last_rech_8    31\n",
       "dtype: int64"
      ]
     },
     "execution_count": 298,
     "metadata": {},
     "output_type": "execute_result"
    }
   ],
   "source": [
    "xx[dic['categorical']].nunique()"
   ]
  },
  {
   "cell_type": "code",
   "execution_count": 313,
   "id": "043b36e6",
   "metadata": {},
   "outputs": [
    {
     "data": {
      "text/plain": [
       "monthly_3g_6            4\n",
       "monthly_2g_7            4\n",
       "monthly_2g_8            4\n",
       "sachet_2g_6             9\n",
       "sachet_3g_7             4\n",
       "monthly_3g_8            4\n",
       "monthly_2g_6            4\n",
       "sachet_3g_8             4\n",
       "sachet_3g_6             4\n",
       "monthly_3g_7            4\n",
       "date_of_last_rech_6    16\n",
       "date_of_last_rech_7    16\n",
       "date_of_last_rech_8    14\n",
       "dtype: int64"
      ]
     },
     "execution_count": 313,
     "metadata": {},
     "output_type": "execute_result"
    }
   ],
   "source": [
    "n = rare.fit_transform(n)\n",
    "n[dic['categorical']].nunique()"
   ]
  },
  {
   "cell_type": "code",
   "execution_count": 314,
   "id": "7cbd19c6",
   "metadata": {},
   "outputs": [],
   "source": [
    "one = OneHotEncoder(drop_last=True,variables=dic['categorical'])\n",
    "n = one.fit_transform(n)"
   ]
  },
  {
   "cell_type": "code",
   "execution_count": 317,
   "id": "0d420573",
   "metadata": {},
   "outputs": [],
   "source": [
    "out = Winsorizer(capping_method='gaussian',tail='both',fold=3,variables=dic['numerical'])\n",
    "n =out.fit_transform(n)"
   ]
  },
  {
   "cell_type": "code",
   "execution_count": 318,
   "id": "71ba6c15",
   "metadata": {},
   "outputs": [],
   "source": [
    "scale = sklearnWrapper(features=dic['numerical'],transformer=StandardScaler())\n",
    "n = scale.fit_transform(n)"
   ]
  },
  {
   "cell_type": "code",
   "execution_count": 1,
   "id": "fae8df62",
   "metadata": {},
   "outputs": [],
   "source": [
    "from pipeline import pipeline"
   ]
  },
  {
   "cell_type": "code",
   "execution_count": 4,
   "id": "d5964ddc",
   "metadata": {},
   "outputs": [],
   "source": [
    "#x_train = pd.read_csv('../data/raw/x_train.csv')\n",
    "#x_test = pd.read_csv('../data/raw/x_test.csv')\n",
    "#x_val = pd.read_csv('../data/raw/x_val.csv')"
   ]
  },
  {
   "cell_type": "code",
   "execution_count": 5,
   "id": "279291b0",
   "metadata": {},
   "outputs": [],
   "source": [
    "\n",
    "#x_train = pipeline.fit_transform(x_train)\n",
    "# x_test = pipeline.transform(x_test)\n",
    "# x_val = pipeline.transform(x_val)"
   ]
  },
  {
   "cell_type": "code",
   "execution_count": 6,
   "id": "6f51722b",
   "metadata": {},
   "outputs": [
    {
     "data": {
      "text/plain": [
       "['pipeline_v1.pkl']"
      ]
     },
     "execution_count": 6,
     "metadata": {},
     "output_type": "execute_result"
    }
   ],
   "source": [
    "# import joblib\n",
    "\n",
    "# joblib.dump(pipeline,'pipeline_v1.pkl')"
   ]
  },
  {
   "cell_type": "code",
   "execution_count": 328,
   "id": "165265e5",
   "metadata": {},
   "outputs": [],
   "source": [
    "#os.mkdir('data/processed')"
   ]
  },
  {
   "cell_type": "code",
   "execution_count": 329,
   "id": "8238d66b",
   "metadata": {},
   "outputs": [],
   "source": [
    "# x_train.to_csv('data/processed/x_train.csv',index=False)\n",
    "# x_test.to_csv('data/processed/x_test.csv',index=False)\n",
    "# x_val.to_csv('data/processed/x_val.csv',index=False)"
   ]
  },
  {
   "cell_type": "code",
   "execution_count": null,
   "id": "e7e2b4ec",
   "metadata": {},
   "outputs": [],
   "source": []
  },
  {
   "cell_type": "code",
   "execution_count": null,
   "id": "ce59d5ea",
   "metadata": {},
   "outputs": [],
   "source": []
  }
 ],
 "metadata": {
  "kernelspec": {
   "display_name": "Python 3 (ipykernel)",
   "language": "python",
   "name": "python3"
  },
  "language_info": {
   "codemirror_mode": {
    "name": "ipython",
    "version": 3
   },
   "file_extension": ".py",
   "mimetype": "text/x-python",
   "name": "python",
   "nbconvert_exporter": "python",
   "pygments_lexer": "ipython3",
   "version": "3.9.13"
  }
 },
 "nbformat": 4,
 "nbformat_minor": 5
}
