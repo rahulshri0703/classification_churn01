{
 "cells": [
  {
   "cell_type": "code",
   "execution_count": 1,
   "metadata": {},
   "outputs": [],
   "source": [
    "from error import BaseError"
   ]
  },
  {
   "cell_type": "code",
   "execution_count": 2,
   "metadata": {},
   "outputs": [
    {
     "ename": "BaseError",
     "evalue": "this is an error",
     "output_type": "error",
     "traceback": [
      "\u001b[0;31m---------------------------------------------------------------------------\u001b[0m",
      "\u001b[0;31mBaseError\u001b[0m                                 Traceback (most recent call last)",
      "\u001b[0;32m/var/folders/7g/jzpxq8rj3z75n6b0tk74k2w40000gn/T/ipykernel_86718/4009975056.py\u001b[0m in \u001b[0;36m<module>\u001b[0;34m\u001b[0m\n\u001b[1;32m      3\u001b[0m     \u001b[0mprint\u001b[0m\u001b[0;34m(\u001b[0m\u001b[0;34m'i am hero'\u001b[0m\u001b[0;34m)\u001b[0m\u001b[0;34m\u001b[0m\u001b[0;34m\u001b[0m\u001b[0m\n\u001b[1;32m      4\u001b[0m \u001b[0;32melse\u001b[0m\u001b[0;34m:\u001b[0m\u001b[0;34m\u001b[0m\u001b[0;34m\u001b[0m\u001b[0m\n\u001b[0;32m----> 5\u001b[0;31m     \u001b[0;32mraise\u001b[0m \u001b[0mBaseError\u001b[0m\u001b[0;34m\u001b[0m\u001b[0;34m\u001b[0m\u001b[0m\n\u001b[0m",
      "\u001b[0;31mBaseError\u001b[0m: this is an error"
     ]
    }
   ],
   "source": [
    "x = 3\n",
    "if x>5:\n",
    "    print('i am hero')\n",
    "else:\n",
    "    raise BaseError"
   ]
  },
  {
   "cell_type": "code",
   "execution_count": 1,
   "metadata": {},
   "outputs": [],
   "source": [
    "import churn_model"
   ]
  },
  {
   "cell_type": "code",
   "execution_count": 1,
   "metadata": {},
   "outputs": [],
   "source": []
  },
  {
   "cell_type": "code",
   "execution_count": 1,
   "metadata": {},
   "outputs": [],
   "source": [
    "from churn_model.processing import load_data\n",
    "from churn_model.config.core import config\n",
    "from churn_model.pipeline import pipeline\n",
    "\n",
    "x_train = load_data.load_dataset(filename=config.app_config.x_train)"
   ]
  },
  {
   "cell_type": "code",
   "execution_count": 2,
   "metadata": {},
   "outputs": [
    {
     "data": {
      "text/html": [
       "<style>#sk-container-id-1 {color: black;background-color: white;}#sk-container-id-1 pre{padding: 0;}#sk-container-id-1 div.sk-toggleable {background-color: white;}#sk-container-id-1 label.sk-toggleable__label {cursor: pointer;display: block;width: 100%;margin-bottom: 0;padding: 0.3em;box-sizing: border-box;text-align: center;}#sk-container-id-1 label.sk-toggleable__label-arrow:before {content: \"▸\";float: left;margin-right: 0.25em;color: #696969;}#sk-container-id-1 label.sk-toggleable__label-arrow:hover:before {color: black;}#sk-container-id-1 div.sk-estimator:hover label.sk-toggleable__label-arrow:before {color: black;}#sk-container-id-1 div.sk-toggleable__content {max-height: 0;max-width: 0;overflow: hidden;text-align: left;background-color: #f0f8ff;}#sk-container-id-1 div.sk-toggleable__content pre {margin: 0.2em;color: black;border-radius: 0.25em;background-color: #f0f8ff;}#sk-container-id-1 input.sk-toggleable__control:checked~div.sk-toggleable__content {max-height: 200px;max-width: 100%;overflow: auto;}#sk-container-id-1 input.sk-toggleable__control:checked~label.sk-toggleable__label-arrow:before {content: \"▾\";}#sk-container-id-1 div.sk-estimator input.sk-toggleable__control:checked~label.sk-toggleable__label {background-color: #d4ebff;}#sk-container-id-1 div.sk-label input.sk-toggleable__control:checked~label.sk-toggleable__label {background-color: #d4ebff;}#sk-container-id-1 input.sk-hidden--visually {border: 0;clip: rect(1px 1px 1px 1px);clip: rect(1px, 1px, 1px, 1px);height: 1px;margin: -1px;overflow: hidden;padding: 0;position: absolute;width: 1px;}#sk-container-id-1 div.sk-estimator {font-family: monospace;background-color: #f0f8ff;border: 1px dotted black;border-radius: 0.25em;box-sizing: border-box;margin-bottom: 0.5em;}#sk-container-id-1 div.sk-estimator:hover {background-color: #d4ebff;}#sk-container-id-1 div.sk-parallel-item::after {content: \"\";width: 100%;border-bottom: 1px solid gray;flex-grow: 1;}#sk-container-id-1 div.sk-label:hover label.sk-toggleable__label {background-color: #d4ebff;}#sk-container-id-1 div.sk-serial::before {content: \"\";position: absolute;border-left: 1px solid gray;box-sizing: border-box;top: 0;bottom: 0;left: 50%;z-index: 0;}#sk-container-id-1 div.sk-serial {display: flex;flex-direction: column;align-items: center;background-color: white;padding-right: 0.2em;padding-left: 0.2em;position: relative;}#sk-container-id-1 div.sk-item {position: relative;z-index: 1;}#sk-container-id-1 div.sk-parallel {display: flex;align-items: stretch;justify-content: center;background-color: white;position: relative;}#sk-container-id-1 div.sk-item::before, #sk-container-id-1 div.sk-parallel-item::before {content: \"\";position: absolute;border-left: 1px solid gray;box-sizing: border-box;top: 0;bottom: 0;left: 50%;z-index: -1;}#sk-container-id-1 div.sk-parallel-item {display: flex;flex-direction: column;z-index: 1;position: relative;background-color: white;}#sk-container-id-1 div.sk-parallel-item:first-child::after {align-self: flex-end;width: 50%;}#sk-container-id-1 div.sk-parallel-item:last-child::after {align-self: flex-start;width: 50%;}#sk-container-id-1 div.sk-parallel-item:only-child::after {width: 0;}#sk-container-id-1 div.sk-dashed-wrapped {border: 1px dashed gray;margin: 0 0.4em 0.5em 0.4em;box-sizing: border-box;padding-bottom: 0.4em;background-color: white;}#sk-container-id-1 div.sk-label label {font-family: monospace;font-weight: bold;display: inline-block;line-height: 1.2em;}#sk-container-id-1 div.sk-label-container {text-align: center;}#sk-container-id-1 div.sk-container {/* jupyter's `normalize.less` sets `[hidden] { display: none; }` but bootstrap.min.css set `[hidden] { display: none !important; }` so we also need the `!important` here to be able to override the default hidden behavior on the sphinx rendered scikit-learn.org. See: https://github.com/scikit-learn/scikit-learn/issues/21755 */display: inline-block !important;position: relative;}#sk-container-id-1 div.sk-text-repr-fallback {display: none;}</style><div id=\"sk-container-id-1\" class=\"sk-top-container\"><div class=\"sk-text-repr-fallback\"><pre>Pipeline(steps=[(&#x27;dropAndRename&#x27;,\n",
       "                 dropAndRenameColumns(categorical=[&#x27;monthly_3g_6&#x27;,\n",
       "                                                   &#x27;monthly_2g_7&#x27;,\n",
       "                                                   &#x27;monthly_2g_8&#x27;,\n",
       "                                                   &#x27;sachet_2g_6&#x27;, &#x27;sachet_3g_7&#x27;,\n",
       "                                                   &#x27;monthly_3g_8&#x27;,\n",
       "                                                   &#x27;monthly_2g_6&#x27;,\n",
       "                                                   &#x27;sachet_3g_8&#x27;, &#x27;sachet_3g_6&#x27;,\n",
       "                                                   &#x27;monthly_3g_7&#x27;,\n",
       "                                                   &#x27;date_of_last_rech_6&#x27;,\n",
       "                                                   &#x27;date_of_last_rech_7&#x27;,\n",
       "                                                   &#x27;date_of_last_rech_8&#x27;],\n",
       "                                      features=[&#x27;circle_id&#x27;, &#x27;loc_og_t2o_mou&#x27;,\n",
       "                                                &#x27;std_og_t2o_mou&#x27;,\n",
       "                                                &#x27;loc_ic_t2o_mo...\n",
       "                                          &#x27;loc_og_t2t_mou_6&#x27;,\n",
       "                                          &#x27;loc_og_t2t_mou_7&#x27;,\n",
       "                                          &#x27;loc_og_t2t_mou_8&#x27;,\n",
       "                                          &#x27;loc_og_t2m_mou_6&#x27;,\n",
       "                                          &#x27;loc_og_t2m_mou_7&#x27;,\n",
       "                                          &#x27;loc_og_t2m_mou_8&#x27;,\n",
       "                                          &#x27;loc_og_t2f_mou_6&#x27;,\n",
       "                                          &#x27;loc_og_t2f_mou_7&#x27;,\n",
       "                                          &#x27;loc_og_t2f_mou_8&#x27;,\n",
       "                                          &#x27;loc_og_t2c_mou_6&#x27;,\n",
       "                                          &#x27;loc_og_t2c_mou_7&#x27;,\n",
       "                                          &#x27;loc_og_t2c_mou_8&#x27;, &#x27;loc_og_mou_6&#x27;,\n",
       "                                          &#x27;loc_og_mou_7&#x27;, &#x27;loc_og_mou_8&#x27;,\n",
       "                                          &#x27;std_og_t2t_mou_6&#x27;,\n",
       "                                          &#x27;std_og_t2t_mou_7&#x27;,\n",
       "                                          &#x27;std_og_t2t_mou_8&#x27;, ...],\n",
       "                                transformer=StandardScaler()))])</pre><b>In a Jupyter environment, please rerun this cell to show the HTML representation or trust the notebook. <br />On GitHub, the HTML representation is unable to render, please try loading this page with nbviewer.org.</b></div><div class=\"sk-container\" hidden><div class=\"sk-item sk-dashed-wrapped\"><div class=\"sk-label-container\"><div class=\"sk-label sk-toggleable\"><input class=\"sk-toggleable__control sk-hidden--visually\" id=\"sk-estimator-id-1\" type=\"checkbox\" ><label for=\"sk-estimator-id-1\" class=\"sk-toggleable__label sk-toggleable__label-arrow\">Pipeline</label><div class=\"sk-toggleable__content\"><pre>Pipeline(steps=[(&#x27;dropAndRename&#x27;,\n",
       "                 dropAndRenameColumns(categorical=[&#x27;monthly_3g_6&#x27;,\n",
       "                                                   &#x27;monthly_2g_7&#x27;,\n",
       "                                                   &#x27;monthly_2g_8&#x27;,\n",
       "                                                   &#x27;sachet_2g_6&#x27;, &#x27;sachet_3g_7&#x27;,\n",
       "                                                   &#x27;monthly_3g_8&#x27;,\n",
       "                                                   &#x27;monthly_2g_6&#x27;,\n",
       "                                                   &#x27;sachet_3g_8&#x27;, &#x27;sachet_3g_6&#x27;,\n",
       "                                                   &#x27;monthly_3g_7&#x27;,\n",
       "                                                   &#x27;date_of_last_rech_6&#x27;,\n",
       "                                                   &#x27;date_of_last_rech_7&#x27;,\n",
       "                                                   &#x27;date_of_last_rech_8&#x27;],\n",
       "                                      features=[&#x27;circle_id&#x27;, &#x27;loc_og_t2o_mou&#x27;,\n",
       "                                                &#x27;std_og_t2o_mou&#x27;,\n",
       "                                                &#x27;loc_ic_t2o_mo...\n",
       "                                          &#x27;loc_og_t2t_mou_6&#x27;,\n",
       "                                          &#x27;loc_og_t2t_mou_7&#x27;,\n",
       "                                          &#x27;loc_og_t2t_mou_8&#x27;,\n",
       "                                          &#x27;loc_og_t2m_mou_6&#x27;,\n",
       "                                          &#x27;loc_og_t2m_mou_7&#x27;,\n",
       "                                          &#x27;loc_og_t2m_mou_8&#x27;,\n",
       "                                          &#x27;loc_og_t2f_mou_6&#x27;,\n",
       "                                          &#x27;loc_og_t2f_mou_7&#x27;,\n",
       "                                          &#x27;loc_og_t2f_mou_8&#x27;,\n",
       "                                          &#x27;loc_og_t2c_mou_6&#x27;,\n",
       "                                          &#x27;loc_og_t2c_mou_7&#x27;,\n",
       "                                          &#x27;loc_og_t2c_mou_8&#x27;, &#x27;loc_og_mou_6&#x27;,\n",
       "                                          &#x27;loc_og_mou_7&#x27;, &#x27;loc_og_mou_8&#x27;,\n",
       "                                          &#x27;std_og_t2t_mou_6&#x27;,\n",
       "                                          &#x27;std_og_t2t_mou_7&#x27;,\n",
       "                                          &#x27;std_og_t2t_mou_8&#x27;, ...],\n",
       "                                transformer=StandardScaler()))])</pre></div></div></div><div class=\"sk-serial\"><div class=\"sk-item\"><div class=\"sk-estimator sk-toggleable\"><input class=\"sk-toggleable__control sk-hidden--visually\" id=\"sk-estimator-id-2\" type=\"checkbox\" ><label for=\"sk-estimator-id-2\" class=\"sk-toggleable__label sk-toggleable__label-arrow\">dropAndRenameColumns</label><div class=\"sk-toggleable__content\"><pre>dropAndRenameColumns(categorical=[&#x27;monthly_3g_6&#x27;, &#x27;monthly_2g_7&#x27;,\n",
       "                                  &#x27;monthly_2g_8&#x27;, &#x27;sachet_2g_6&#x27;, &#x27;sachet_3g_7&#x27;,\n",
       "                                  &#x27;monthly_3g_8&#x27;, &#x27;monthly_2g_6&#x27;, &#x27;sachet_3g_8&#x27;,\n",
       "                                  &#x27;sachet_3g_6&#x27;, &#x27;monthly_3g_7&#x27;,\n",
       "                                  &#x27;date_of_last_rech_6&#x27;, &#x27;date_of_last_rech_7&#x27;,\n",
       "                                  &#x27;date_of_last_rech_8&#x27;],\n",
       "                     features=[&#x27;circle_id&#x27;, &#x27;loc_og_t2o_mou&#x27;, &#x27;std_og_t2o_mou&#x27;,\n",
       "                               &#x27;loc_ic_t2o_mou&#x27;, &#x27;last_date_of_month_6&#x27;,\n",
       "                               &#x27;last_d...\n",
       "                               &#x27;date_of_last_rech_data_7&#x27;,\n",
       "                               &#x27;date_of_last_rech_data_8&#x27;, &#x27;max_rech_data_6&#x27;,\n",
       "                               &#x27;max_rech_data_7&#x27;, &#x27;max_rech_data_8&#x27;,\n",
       "                               &#x27;count_rech_2g_6&#x27;, &#x27;count_rech_2g_7&#x27;,\n",
       "                               &#x27;count_rech_2g_8&#x27;, &#x27;count_rech_3g_6&#x27;,\n",
       "                               &#x27;count_rech_3g_7&#x27;, &#x27;count_rech_3g_8&#x27;,\n",
       "                               &#x27;arpu_3g_6&#x27;, &#x27;arpu_3g_7&#x27;, &#x27;arpu_3g_8&#x27;,\n",
       "                               &#x27;arpu_2g_6&#x27;, &#x27;arpu_2g_7&#x27;, ...],\n",
       "                     features_rename={&#x27;aug_vbc_3g&#x27;: &#x27;vbc_3g_8&#x27;,\n",
       "                                      &#x27;jul_vbc_3g&#x27;: &#x27;vbc_3g_7&#x27;,\n",
       "                                      &#x27;jun_vbc_3g&#x27;: &#x27;vbc_3g_6&#x27;})</pre></div></div></div><div class=\"sk-item\"><div class=\"sk-estimator sk-toggleable\"><input class=\"sk-toggleable__control sk-hidden--visually\" id=\"sk-estimator-id-3\" type=\"checkbox\" ><label for=\"sk-estimator-id-3\" class=\"sk-toggleable__label sk-toggleable__label-arrow\">createFeatures</label><div class=\"sk-toggleable__content\"><pre>createFeatures()</pre></div></div></div><div class=\"sk-item sk-dashed-wrapped\"><div class=\"sk-label-container\"><div class=\"sk-label sk-toggleable\"><input class=\"sk-toggleable__control sk-hidden--visually\" id=\"sk-estimator-id-4\" type=\"checkbox\" ><label for=\"sk-estimator-id-4\" class=\"sk-toggleable__label sk-toggleable__label-arrow\">nullZero: sklearnWrapper</label><div class=\"sk-toggleable__content\"><pre>sklearnWrapper(features=[&#x27;onnet_mou_6&#x27;, &#x27;offnet_mou_6&#x27;, &#x27;roam_ic_mou_6&#x27;,\n",
       "                         &#x27;roam_og_mou_6&#x27;, &#x27;loc_og_t2t_mou_6&#x27;,\n",
       "                         &#x27;loc_og_t2m_mou_6&#x27;, &#x27;loc_og_t2f_mou_6&#x27;,\n",
       "                         &#x27;loc_og_t2c_mou_6&#x27;, &#x27;loc_og_mou_6&#x27;, &#x27;std_og_t2t_mou_6&#x27;,\n",
       "                         &#x27;std_og_t2m_mou_6&#x27;, &#x27;std_og_t2f_mou_6&#x27;, &#x27;std_og_mou_6&#x27;,\n",
       "                         &#x27;isd_og_mou_6&#x27;, &#x27;spl_og_mou_6&#x27;, &#x27;og_others_6&#x27;,\n",
       "                         &#x27;loc_ic_t2t_mou_6&#x27;, &#x27;loc_ic_t2m_mou_6&#x27;,\n",
       "                         &#x27;loc_ic_t2f_mou_6&#x27;, &#x27;loc_ic_mou_6&#x27;, &#x27;std_ic_t2t_mou_6&#x27;,\n",
       "                         &#x27;std_ic_t2m_mou_6&#x27;, &#x27;std_ic_t2f_mou_6&#x27;, &#x27;std_ic_mou_6&#x27;,\n",
       "                         &#x27;spl_ic_mou_6&#x27;, &#x27;isd_ic_mou_6&#x27;, &#x27;ic_others_6&#x27;,\n",
       "                         &#x27;onnet_mou_7&#x27;, &#x27;offnet_mou_7&#x27;, &#x27;roam_ic_mou_7&#x27;, ...],\n",
       "               transformer=SimpleImputer(fill_value=0, strategy=&#x27;constant&#x27;))</pre></div></div></div><div class=\"sk-parallel\"><div class=\"sk-parallel-item\"><div class=\"sk-item\"><div class=\"sk-label-container\"><div class=\"sk-label sk-toggleable\"><input class=\"sk-toggleable__control sk-hidden--visually\" id=\"sk-estimator-id-5\" type=\"checkbox\" ><label for=\"sk-estimator-id-5\" class=\"sk-toggleable__label sk-toggleable__label-arrow\">transformer: SimpleImputer</label><div class=\"sk-toggleable__content\"><pre>SimpleImputer(fill_value=0, strategy=&#x27;constant&#x27;)</pre></div></div></div><div class=\"sk-serial\"><div class=\"sk-item\"><div class=\"sk-estimator sk-toggleable\"><input class=\"sk-toggleable__control sk-hidden--visually\" id=\"sk-estimator-id-6\" type=\"checkbox\" ><label for=\"sk-estimator-id-6\" class=\"sk-toggleable__label sk-toggleable__label-arrow\">SimpleImputer</label><div class=\"sk-toggleable__content\"><pre>SimpleImputer(fill_value=0, strategy=&#x27;constant&#x27;)</pre></div></div></div></div></div></div></div></div><div class=\"sk-item sk-dashed-wrapped\"><div class=\"sk-label-container\"><div class=\"sk-label sk-toggleable\"><input class=\"sk-toggleable__control sk-hidden--visually\" id=\"sk-estimator-id-7\" type=\"checkbox\" ><label for=\"sk-estimator-id-7\" class=\"sk-toggleable__label sk-toggleable__label-arrow\">nullMode: sklearnWrapper</label><div class=\"sk-toggleable__content\"><pre>sklearnWrapper(features=[&#x27;date_of_last_rech_6&#x27;, &#x27;date_of_last_rech_7&#x27;,\n",
       "                         &#x27;date_of_last_rech_8&#x27;],\n",
       "               transformer=SimpleImputer(strategy=&#x27;most_frequent&#x27;))</pre></div></div></div><div class=\"sk-parallel\"><div class=\"sk-parallel-item\"><div class=\"sk-item\"><div class=\"sk-label-container\"><div class=\"sk-label sk-toggleable\"><input class=\"sk-toggleable__control sk-hidden--visually\" id=\"sk-estimator-id-8\" type=\"checkbox\" ><label for=\"sk-estimator-id-8\" class=\"sk-toggleable__label sk-toggleable__label-arrow\">transformer: SimpleImputer</label><div class=\"sk-toggleable__content\"><pre>SimpleImputer(strategy=&#x27;most_frequent&#x27;)</pre></div></div></div><div class=\"sk-serial\"><div class=\"sk-item\"><div class=\"sk-estimator sk-toggleable\"><input class=\"sk-toggleable__control sk-hidden--visually\" id=\"sk-estimator-id-9\" type=\"checkbox\" ><label for=\"sk-estimator-id-9\" class=\"sk-toggleable__label sk-toggleable__label-arrow\">SimpleImputer</label><div class=\"sk-toggleable__content\"><pre>SimpleImputer(strategy=&#x27;most_frequent&#x27;)</pre></div></div></div></div></div></div></div></div><div class=\"sk-item\"><div class=\"sk-estimator sk-toggleable\"><input class=\"sk-toggleable__control sk-hidden--visually\" id=\"sk-estimator-id-10\" type=\"checkbox\" ><label for=\"sk-estimator-id-10\" class=\"sk-toggleable__label sk-toggleable__label-arrow\">RareLabelEncoder</label><div class=\"sk-toggleable__content\"><pre>RareLabelEncoder(n_categories=3, tol=0.01,\n",
       "                 variables=[&#x27;monthly_3g_6&#x27;, &#x27;monthly_2g_7&#x27;, &#x27;monthly_2g_8&#x27;,\n",
       "                            &#x27;sachet_2g_6&#x27;, &#x27;sachet_3g_7&#x27;, &#x27;monthly_3g_8&#x27;,\n",
       "                            &#x27;monthly_2g_6&#x27;, &#x27;sachet_3g_8&#x27;, &#x27;sachet_3g_6&#x27;,\n",
       "                            &#x27;monthly_3g_7&#x27;, &#x27;date_of_last_rech_6&#x27;,\n",
       "                            &#x27;date_of_last_rech_7&#x27;, &#x27;date_of_last_rech_8&#x27;])</pre></div></div></div><div class=\"sk-item\"><div class=\"sk-estimator sk-toggleable\"><input class=\"sk-toggleable__control sk-hidden--visually\" id=\"sk-estimator-id-11\" type=\"checkbox\" ><label for=\"sk-estimator-id-11\" class=\"sk-toggleable__label sk-toggleable__label-arrow\">OneHotEncoder</label><div class=\"sk-toggleable__content\"><pre>OneHotEncoder(drop_last=True,\n",
       "              variables=[&#x27;monthly_3g_6&#x27;, &#x27;monthly_2g_7&#x27;, &#x27;monthly_2g_8&#x27;,\n",
       "                         &#x27;sachet_2g_6&#x27;, &#x27;sachet_3g_7&#x27;, &#x27;monthly_3g_8&#x27;,\n",
       "                         &#x27;monthly_2g_6&#x27;, &#x27;sachet_3g_8&#x27;, &#x27;sachet_3g_6&#x27;,\n",
       "                         &#x27;monthly_3g_7&#x27;, &#x27;date_of_last_rech_6&#x27;,\n",
       "                         &#x27;date_of_last_rech_7&#x27;, &#x27;date_of_last_rech_8&#x27;])</pre></div></div></div><div class=\"sk-item\"><div class=\"sk-estimator sk-toggleable\"><input class=\"sk-toggleable__control sk-hidden--visually\" id=\"sk-estimator-id-12\" type=\"checkbox\" ><label for=\"sk-estimator-id-12\" class=\"sk-toggleable__label sk-toggleable__label-arrow\">Winsorizer</label><div class=\"sk-toggleable__content\"><pre>Winsorizer(tail=&#x27;both&#x27;,\n",
       "           variables=[&#x27;onnet_mou_6&#x27;, &#x27;onnet_mou_7&#x27;, &#x27;onnet_mou_8&#x27;,\n",
       "                      &#x27;offnet_mou_6&#x27;, &#x27;offnet_mou_7&#x27;, &#x27;offnet_mou_8&#x27;,\n",
       "                      &#x27;roam_ic_mou_6&#x27;, &#x27;roam_ic_mou_7&#x27;, &#x27;roam_ic_mou_8&#x27;,\n",
       "                      &#x27;roam_og_mou_6&#x27;, &#x27;roam_og_mou_7&#x27;, &#x27;roam_og_mou_8&#x27;,\n",
       "                      &#x27;loc_og_t2t_mou_6&#x27;, &#x27;loc_og_t2t_mou_7&#x27;,\n",
       "                      &#x27;loc_og_t2t_mou_8&#x27;, &#x27;loc_og_t2m_mou_6&#x27;,\n",
       "                      &#x27;loc_og_t2m_mou_7&#x27;, &#x27;loc_og_t2m_mou_8&#x27;,\n",
       "                      &#x27;loc_og_t2f_mou_6&#x27;, &#x27;loc_og_t2f_mou_7&#x27;,\n",
       "                      &#x27;loc_og_t2f_mou_8&#x27;, &#x27;loc_og_t2c_mou_6&#x27;,\n",
       "                      &#x27;loc_og_t2c_mou_7&#x27;, &#x27;loc_og_t2c_mou_8&#x27;, &#x27;loc_og_mou_6&#x27;,\n",
       "                      &#x27;loc_og_mou_7&#x27;, &#x27;loc_og_mou_8&#x27;, &#x27;std_og_t2t_mou_6&#x27;,\n",
       "                      &#x27;std_og_t2t_mou_7&#x27;, &#x27;std_og_t2t_mou_8&#x27;, ...])</pre></div></div></div><div class=\"sk-item sk-dashed-wrapped\"><div class=\"sk-label-container\"><div class=\"sk-label sk-toggleable\"><input class=\"sk-toggleable__control sk-hidden--visually\" id=\"sk-estimator-id-13\" type=\"checkbox\" ><label for=\"sk-estimator-id-13\" class=\"sk-toggleable__label sk-toggleable__label-arrow\">scale: sklearnWrapper</label><div class=\"sk-toggleable__content\"><pre>sklearnWrapper(features=[&#x27;onnet_mou_6&#x27;, &#x27;onnet_mou_7&#x27;, &#x27;onnet_mou_8&#x27;,\n",
       "                         &#x27;offnet_mou_6&#x27;, &#x27;offnet_mou_7&#x27;, &#x27;offnet_mou_8&#x27;,\n",
       "                         &#x27;roam_ic_mou_6&#x27;, &#x27;roam_ic_mou_7&#x27;, &#x27;roam_ic_mou_8&#x27;,\n",
       "                         &#x27;roam_og_mou_6&#x27;, &#x27;roam_og_mou_7&#x27;, &#x27;roam_og_mou_8&#x27;,\n",
       "                         &#x27;loc_og_t2t_mou_6&#x27;, &#x27;loc_og_t2t_mou_7&#x27;,\n",
       "                         &#x27;loc_og_t2t_mou_8&#x27;, &#x27;loc_og_t2m_mou_6&#x27;,\n",
       "                         &#x27;loc_og_t2m_mou_7&#x27;, &#x27;loc_og_t2m_mou_8&#x27;,\n",
       "                         &#x27;loc_og_t2f_mou_6&#x27;, &#x27;loc_og_t2f_mou_7&#x27;,\n",
       "                         &#x27;loc_og_t2f_mou_8&#x27;, &#x27;loc_og_t2c_mou_6&#x27;,\n",
       "                         &#x27;loc_og_t2c_mou_7&#x27;, &#x27;loc_og_t2c_mou_8&#x27;, &#x27;loc_og_mou_6&#x27;,\n",
       "                         &#x27;loc_og_mou_7&#x27;, &#x27;loc_og_mou_8&#x27;, &#x27;std_og_t2t_mou_6&#x27;,\n",
       "                         &#x27;std_og_t2t_mou_7&#x27;, &#x27;std_og_t2t_mou_8&#x27;, ...],\n",
       "               transformer=StandardScaler())</pre></div></div></div><div class=\"sk-parallel\"><div class=\"sk-parallel-item\"><div class=\"sk-item\"><div class=\"sk-label-container\"><div class=\"sk-label sk-toggleable\"><input class=\"sk-toggleable__control sk-hidden--visually\" id=\"sk-estimator-id-14\" type=\"checkbox\" ><label for=\"sk-estimator-id-14\" class=\"sk-toggleable__label sk-toggleable__label-arrow\">transformer: StandardScaler</label><div class=\"sk-toggleable__content\"><pre>StandardScaler()</pre></div></div></div><div class=\"sk-serial\"><div class=\"sk-item\"><div class=\"sk-estimator sk-toggleable\"><input class=\"sk-toggleable__control sk-hidden--visually\" id=\"sk-estimator-id-15\" type=\"checkbox\" ><label for=\"sk-estimator-id-15\" class=\"sk-toggleable__label sk-toggleable__label-arrow\">StandardScaler</label><div class=\"sk-toggleable__content\"><pre>StandardScaler()</pre></div></div></div></div></div></div></div></div></div></div></div></div>"
      ],
      "text/plain": [
       "Pipeline(steps=[('dropAndRename',\n",
       "                 dropAndRenameColumns(categorical=['monthly_3g_6',\n",
       "                                                   'monthly_2g_7',\n",
       "                                                   'monthly_2g_8',\n",
       "                                                   'sachet_2g_6', 'sachet_3g_7',\n",
       "                                                   'monthly_3g_8',\n",
       "                                                   'monthly_2g_6',\n",
       "                                                   'sachet_3g_8', 'sachet_3g_6',\n",
       "                                                   'monthly_3g_7',\n",
       "                                                   'date_of_last_rech_6',\n",
       "                                                   'date_of_last_rech_7',\n",
       "                                                   'date_of_last_rech_8'],\n",
       "                                      features=['circle_id', 'loc_og_t2o_mou',\n",
       "                                                'std_og_t2o_mou',\n",
       "                                                'loc_ic_t2o_mo...\n",
       "                                          'loc_og_t2t_mou_6',\n",
       "                                          'loc_og_t2t_mou_7',\n",
       "                                          'loc_og_t2t_mou_8',\n",
       "                                          'loc_og_t2m_mou_6',\n",
       "                                          'loc_og_t2m_mou_7',\n",
       "                                          'loc_og_t2m_mou_8',\n",
       "                                          'loc_og_t2f_mou_6',\n",
       "                                          'loc_og_t2f_mou_7',\n",
       "                                          'loc_og_t2f_mou_8',\n",
       "                                          'loc_og_t2c_mou_6',\n",
       "                                          'loc_og_t2c_mou_7',\n",
       "                                          'loc_og_t2c_mou_8', 'loc_og_mou_6',\n",
       "                                          'loc_og_mou_7', 'loc_og_mou_8',\n",
       "                                          'std_og_t2t_mou_6',\n",
       "                                          'std_og_t2t_mou_7',\n",
       "                                          'std_og_t2t_mou_8', ...],\n",
       "                                transformer=StandardScaler()))])"
      ]
     },
     "execution_count": 2,
     "metadata": {},
     "output_type": "execute_result"
    }
   ],
   "source": [
    "pipeline.fit(X=x_train)"
   ]
  },
  {
   "cell_type": "code",
   "execution_count": null,
   "metadata": {},
   "outputs": [],
   "source": [
    "#"
   ]
  },
  {
   "cell_type": "code",
   "execution_count": 3,
   "metadata": {},
   "outputs": [],
   "source": [
    "#pipeline = load_data.load_pipeline(filename=config.app_config.saved_pipeline_name)\n",
    "model = load_data.load_model(filename=config.app_config.saved_model_name)"
   ]
  },
  {
   "cell_type": "code",
   "execution_count": null,
   "metadata": {},
   "outputs": [],
   "source": []
  },
  {
   "cell_type": "code",
   "execution_count": 4,
   "metadata": {},
   "outputs": [
    {
     "data": {
      "text/plain": [
       "array([0, 0, 0, ..., 0, 0, 0])"
      ]
     },
     "execution_count": 4,
     "metadata": {},
     "output_type": "execute_result"
    }
   ],
   "source": [
    "model.predict(pipeline.transform(x_train))"
   ]
  },
  {
   "cell_type": "code",
   "execution_count": 5,
   "metadata": {},
   "outputs": [],
   "source": [
    "from sklearn.pipeline import Pipeline"
   ]
  },
  {
   "cell_type": "code",
   "execution_count": 6,
   "metadata": {},
   "outputs": [],
   "source": [
    "pipe = Pipeline(steps=[('pipeline',pipeline),\n",
    "                ('model',model)])"
   ]
  },
  {
   "cell_type": "code",
   "execution_count": 7,
   "metadata": {},
   "outputs": [
    {
     "data": {
      "text/plain": [
       "array([0, 0, 0, ..., 0, 0, 0])"
      ]
     },
     "execution_count": 7,
     "metadata": {},
     "output_type": "execute_result"
    }
   ],
   "source": [
    "pipe.predict(x_train)"
   ]
  },
  {
   "cell_type": "code",
   "execution_count": 8,
   "metadata": {},
   "outputs": [
    {
     "data": {
      "text/plain": [
       "['../models/final_pipeline.pkl']"
      ]
     },
     "execution_count": 8,
     "metadata": {},
     "output_type": "execute_result"
    }
   ],
   "source": [
    "import joblib\n",
    "\n",
    "#joblib.dump(pipe,'../models/final_pipeline.pkl')"
   ]
  },
  {
   "cell_type": "code",
   "execution_count": 9,
   "metadata": {},
   "outputs": [
    {
     "data": {
      "text/plain": [
       "['../models/pipeline_v1.pkl']"
      ]
     },
     "execution_count": 9,
     "metadata": {},
     "output_type": "execute_result"
    }
   ],
   "source": [
    "#joblib.dump(pipe,'../models/pipeline_v1.pkl')"
   ]
  },
  {
   "cell_type": "code",
   "execution_count": 1,
   "metadata": {},
   "outputs": [],
   "source": [
    "from churn_model.processing import load_data\n",
    "from churn_model import config"
   ]
  },
  {
   "cell_type": "code",
   "execution_count": 6,
   "metadata": {},
   "outputs": [
    {
     "data": {
      "text/html": [
       "<div>\n",
       "<style scoped>\n",
       "    .dataframe tbody tr th:only-of-type {\n",
       "        vertical-align: middle;\n",
       "    }\n",
       "\n",
       "    .dataframe tbody tr th {\n",
       "        vertical-align: top;\n",
       "    }\n",
       "\n",
       "    .dataframe thead th {\n",
       "        text-align: right;\n",
       "    }\n",
       "</style>\n",
       "<table border=\"1\" class=\"dataframe\">\n",
       "  <thead>\n",
       "    <tr style=\"text-align: right;\">\n",
       "      <th></th>\n",
       "      <th>monthly_3g_6</th>\n",
       "      <th>monthly_2g_7</th>\n",
       "      <th>monthly_2g_8</th>\n",
       "      <th>sachet_2g_6</th>\n",
       "      <th>sachet_3g_7</th>\n",
       "      <th>monthly_3g_8</th>\n",
       "      <th>monthly_2g_6</th>\n",
       "      <th>sachet_3g_8</th>\n",
       "      <th>sachet_3g_6</th>\n",
       "      <th>monthly_3g_7</th>\n",
       "      <th>date_of_last_rech_6</th>\n",
       "      <th>date_of_last_rech_7</th>\n",
       "      <th>date_of_last_rech_8</th>\n",
       "    </tr>\n",
       "  </thead>\n",
       "  <tbody>\n",
       "    <tr>\n",
       "      <th>0</th>\n",
       "      <td>0</td>\n",
       "      <td>0</td>\n",
       "      <td>0</td>\n",
       "      <td>0</td>\n",
       "      <td>0</td>\n",
       "      <td>0</td>\n",
       "      <td>0</td>\n",
       "      <td>0</td>\n",
       "      <td>0</td>\n",
       "      <td>0</td>\n",
       "      <td>6/30/2014</td>\n",
       "      <td>7/31/2014</td>\n",
       "      <td>8/31/2014</td>\n",
       "    </tr>\n",
       "    <tr>\n",
       "      <th>1</th>\n",
       "      <td>0</td>\n",
       "      <td>0</td>\n",
       "      <td>0</td>\n",
       "      <td>2</td>\n",
       "      <td>0</td>\n",
       "      <td>0</td>\n",
       "      <td>0</td>\n",
       "      <td>0</td>\n",
       "      <td>0</td>\n",
       "      <td>0</td>\n",
       "      <td>6/28/2014</td>\n",
       "      <td>7/28/2014</td>\n",
       "      <td>8/30/2014</td>\n",
       "    </tr>\n",
       "    <tr>\n",
       "      <th>2</th>\n",
       "      <td>0</td>\n",
       "      <td>0</td>\n",
       "      <td>0</td>\n",
       "      <td>0</td>\n",
       "      <td>0</td>\n",
       "      <td>0</td>\n",
       "      <td>0</td>\n",
       "      <td>0</td>\n",
       "      <td>0</td>\n",
       "      <td>0</td>\n",
       "      <td>6/28/2014</td>\n",
       "      <td>7/30/2014</td>\n",
       "      <td>8/21/2014</td>\n",
       "    </tr>\n",
       "    <tr>\n",
       "      <th>3</th>\n",
       "      <td>0</td>\n",
       "      <td>0</td>\n",
       "      <td>0</td>\n",
       "      <td>0</td>\n",
       "      <td>0</td>\n",
       "      <td>0</td>\n",
       "      <td>0</td>\n",
       "      <td>0</td>\n",
       "      <td>0</td>\n",
       "      <td>0</td>\n",
       "      <td>6/21/2014</td>\n",
       "      <td>7/16/2014</td>\n",
       "      <td>8/5/2014</td>\n",
       "    </tr>\n",
       "    <tr>\n",
       "      <th>4</th>\n",
       "      <td>0</td>\n",
       "      <td>0</td>\n",
       "      <td>0</td>\n",
       "      <td>1</td>\n",
       "      <td>0</td>\n",
       "      <td>0</td>\n",
       "      <td>0</td>\n",
       "      <td>0</td>\n",
       "      <td>0</td>\n",
       "      <td>0</td>\n",
       "      <td>6/28/2014</td>\n",
       "      <td>7/26/2014</td>\n",
       "      <td>8/28/2014</td>\n",
       "    </tr>\n",
       "    <tr>\n",
       "      <th>...</th>\n",
       "      <td>...</td>\n",
       "      <td>...</td>\n",
       "      <td>...</td>\n",
       "      <td>...</td>\n",
       "      <td>...</td>\n",
       "      <td>...</td>\n",
       "      <td>...</td>\n",
       "      <td>...</td>\n",
       "      <td>...</td>\n",
       "      <td>...</td>\n",
       "      <td>...</td>\n",
       "      <td>...</td>\n",
       "      <td>...</td>\n",
       "    </tr>\n",
       "    <tr>\n",
       "      <th>19195</th>\n",
       "      <td>0</td>\n",
       "      <td>0</td>\n",
       "      <td>0</td>\n",
       "      <td>0</td>\n",
       "      <td>0</td>\n",
       "      <td>0</td>\n",
       "      <td>0</td>\n",
       "      <td>0</td>\n",
       "      <td>0</td>\n",
       "      <td>0</td>\n",
       "      <td>6/30/2014</td>\n",
       "      <td>7/26/2014</td>\n",
       "      <td>8/19/2014</td>\n",
       "    </tr>\n",
       "    <tr>\n",
       "      <th>19196</th>\n",
       "      <td>0</td>\n",
       "      <td>0</td>\n",
       "      <td>0</td>\n",
       "      <td>7</td>\n",
       "      <td>0</td>\n",
       "      <td>0</td>\n",
       "      <td>0</td>\n",
       "      <td>0</td>\n",
       "      <td>0</td>\n",
       "      <td>0</td>\n",
       "      <td>6/27/2014</td>\n",
       "      <td>7/29/2014</td>\n",
       "      <td>8/14/2014</td>\n",
       "    </tr>\n",
       "    <tr>\n",
       "      <th>19197</th>\n",
       "      <td>0</td>\n",
       "      <td>0</td>\n",
       "      <td>0</td>\n",
       "      <td>0</td>\n",
       "      <td>0</td>\n",
       "      <td>0</td>\n",
       "      <td>0</td>\n",
       "      <td>0</td>\n",
       "      <td>0</td>\n",
       "      <td>0</td>\n",
       "      <td>6/30/2014</td>\n",
       "      <td>7/29/2014</td>\n",
       "      <td>8/31/2014</td>\n",
       "    </tr>\n",
       "    <tr>\n",
       "      <th>19198</th>\n",
       "      <td>0</td>\n",
       "      <td>1</td>\n",
       "      <td>1</td>\n",
       "      <td>6</td>\n",
       "      <td>0</td>\n",
       "      <td>0</td>\n",
       "      <td>0</td>\n",
       "      <td>0</td>\n",
       "      <td>0</td>\n",
       "      <td>0</td>\n",
       "      <td>6/29/2014</td>\n",
       "      <td>7/28/2014</td>\n",
       "      <td>8/25/2014</td>\n",
       "    </tr>\n",
       "    <tr>\n",
       "      <th>19199</th>\n",
       "      <td>0</td>\n",
       "      <td>2</td>\n",
       "      <td>2</td>\n",
       "      <td>0</td>\n",
       "      <td>0</td>\n",
       "      <td>1</td>\n",
       "      <td>4</td>\n",
       "      <td>0</td>\n",
       "      <td>0</td>\n",
       "      <td>0</td>\n",
       "      <td>6/25/2014</td>\n",
       "      <td>7/23/2014</td>\n",
       "      <td>8/25/2014</td>\n",
       "    </tr>\n",
       "  </tbody>\n",
       "</table>\n",
       "<p>19200 rows × 13 columns</p>\n",
       "</div>"
      ],
      "text/plain": [
       "       monthly_3g_6  monthly_2g_7  monthly_2g_8  sachet_2g_6  sachet_3g_7  \\\n",
       "0                 0             0             0            0            0   \n",
       "1                 0             0             0            2            0   \n",
       "2                 0             0             0            0            0   \n",
       "3                 0             0             0            0            0   \n",
       "4                 0             0             0            1            0   \n",
       "...             ...           ...           ...          ...          ...   \n",
       "19195             0             0             0            0            0   \n",
       "19196             0             0             0            7            0   \n",
       "19197             0             0             0            0            0   \n",
       "19198             0             1             1            6            0   \n",
       "19199             0             2             2            0            0   \n",
       "\n",
       "       monthly_3g_8  monthly_2g_6  sachet_3g_8  sachet_3g_6  monthly_3g_7  \\\n",
       "0                 0             0            0            0             0   \n",
       "1                 0             0            0            0             0   \n",
       "2                 0             0            0            0             0   \n",
       "3                 0             0            0            0             0   \n",
       "4                 0             0            0            0             0   \n",
       "...             ...           ...          ...          ...           ...   \n",
       "19195             0             0            0            0             0   \n",
       "19196             0             0            0            0             0   \n",
       "19197             0             0            0            0             0   \n",
       "19198             0             0            0            0             0   \n",
       "19199             1             4            0            0             0   \n",
       "\n",
       "      date_of_last_rech_6 date_of_last_rech_7 date_of_last_rech_8  \n",
       "0               6/30/2014           7/31/2014           8/31/2014  \n",
       "1               6/28/2014           7/28/2014           8/30/2014  \n",
       "2               6/28/2014           7/30/2014           8/21/2014  \n",
       "3               6/21/2014           7/16/2014            8/5/2014  \n",
       "4               6/28/2014           7/26/2014           8/28/2014  \n",
       "...                   ...                 ...                 ...  \n",
       "19195           6/30/2014           7/26/2014           8/19/2014  \n",
       "19196           6/27/2014           7/29/2014           8/14/2014  \n",
       "19197           6/30/2014           7/29/2014           8/31/2014  \n",
       "19198           6/29/2014           7/28/2014           8/25/2014  \n",
       "19199           6/25/2014           7/23/2014           8/25/2014  \n",
       "\n",
       "[19200 rows x 13 columns]"
      ]
     },
     "execution_count": 6,
     "metadata": {},
     "output_type": "execute_result"
    }
   ],
   "source": [
    "x_train[config.model_config.categorical]"
   ]
  },
  {
   "cell_type": "code",
   "execution_count": 7,
   "metadata": {},
   "outputs": [],
   "source": [
    "import marshmallow"
   ]
  },
  {
   "cell_type": "code",
   "execution_count": 10,
   "metadata": {},
   "outputs": [
    {
     "name": "stdout",
     "output_type": "stream",
     "text": [
      "['EXCLUDE', 'INCLUDE', 'RAISE', 'Schema', 'SchemaOpts', 'ValidationError', 'Version', '__all__', '__annotations__', '__builtins__', '__cached__', '__doc__', '__file__', '__loader__', '__name__', '__package__', '__parsed_version__', '__path__', '__spec__', '__version__', '__version_info__', 'annotations', 'base', 'class_registry', 'decorators', 'error_store', 'exceptions', 'fields', 'missing', 'orderedset', 'post_dump', 'post_load', 'pprint', 'pre_dump', 'pre_load', 'schema', 'types', 'utils', 'validate', 'validates', 'validates_schema', 'warnings']\n"
     ]
    }
   ],
   "source": [
    "print(list(dir(marshmallow)) )"
   ]
  },
  {
   "cell_type": "code",
   "execution_count": 11,
   "metadata": {},
   "outputs": [
    {
     "name": "stdout",
     "output_type": "stream",
     "text": [
      "['And', 'AwareDateTime', 'Bool', 'Boolean', 'Constant', 'Date', 'DateTime', 'Decimal', 'Dict', 'Email', 'Enum', 'EnumType', 'Field', 'FieldABC', 'FieldInstanceResolutionError', 'Float', 'Function', 'IP', 'IPInterface', 'IPv4', 'IPv4Interface', 'IPv6', 'IPv6Interface', 'Inferred', 'Int', 'Integer', 'Length', 'List', 'Mapping', 'Method', 'NaiveDateTime', 'Nested', 'Number', 'Pluck', 'Raw', 'RemovedInMarshmallow4Warning', 'SchemaABC', 'Str', 'String', 'StringNotCollectionError', 'Time', 'TimeDelta', 'Tuple', 'URL', 'UUID', 'Url', 'ValidationError', '_Mapping', '_T', '__all__', '__builtins__', '__cached__', '__doc__', '__file__', '__loader__', '__name__', '__package__', '__spec__', 'annotations', 'class_registry', 'collections', 'copy', 'decimal', 'dt', 'ipaddress', 'is_aware', 'is_collection', 'math', 'missing_', 'numbers', 'resolve_field_instance', 'types', 'typing', 'utils', 'uuid', 'validate', 'warnings']\n"
     ]
    }
   ],
   "source": [
    "print(dir(marshmallow.fields))"
   ]
  },
  {
   "cell_type": "code",
   "execution_count": 14,
   "metadata": {},
   "outputs": [
    {
     "name": "stdout",
     "output_type": "stream",
     "text": [
      "['ABC', 'And', 'ContainsNoneOf', 'ContainsOnly', 'Email', 'Equal', 'Length', 'NoneOf', 'OneOf', 'Predicate', 'Range', 'Regexp', 'URL', 'ValidationError', 'Validator', '_T', '__builtins__', '__cached__', '__doc__', '__file__', '__loader__', '__name__', '__package__', '__spec__', 'abstractmethod', 'annotations', 'attrgetter', 're', 'types', 'typing', 'zip_longest']\n"
     ]
    }
   ],
   "source": [
    "print(dir(marshmallow.validate))"
   ]
  },
  {
   "cell_type": "code",
   "execution_count": 1,
   "metadata": {},
   "outputs": [],
   "source": [
    "import validation\n",
    "from churn_model.processing import load_data\n",
    "from churn_model.config.core import config\n",
    "\n",
    "x_train = load_data.load_dataset(filename=config.app_config.x_train)"
   ]
  },
  {
   "cell_type": "code",
   "execution_count": 2,
   "metadata": {},
   "outputs": [],
   "source": [
    "x = x_train.head(3)\n",
    "xx = x.copy()\n"
   ]
  },
  {
   "cell_type": "code",
   "execution_count": 3,
   "metadata": {},
   "outputs": [
    {
     "data": {
      "text/plain": [
       "(   mobile_number  circle_id  loc_og_t2o_mou  std_og_t2o_mou  loc_ic_t2o_mou  \\\n",
       " 0     7002222687        109             0.0             0.0             0.0   \n",
       " 1     7001544619        109             0.0             0.0             0.0   \n",
       " 2     7000094324        109             0.0             0.0             0.0   \n",
       " \n",
       "   last_date_of_month_6 last_date_of_month_7 last_date_of_month_8   arpu_6  \\\n",
       " 0            6/30/2014            7/31/2014            8/31/2014  710.657   \n",
       " 1            6/30/2014            7/31/2014            8/31/2014  837.086   \n",
       " 2            6/30/2014            7/31/2014            8/31/2014  752.352   \n",
       " \n",
       "     arpu_7  ...  fb_user_6  fb_user_7  fb_user_8  aon  aug_vbc_3g  jul_vbc_3g  \\\n",
       " 0  595.855  ...        NaN        NaN        0.0  940         0.0         0.0   \n",
       " 1  797.978  ...        1.0        1.0        1.0  809         0.0         0.0   \n",
       " 2  289.859  ...        NaN        NaN        NaN  277         0.0         0.0   \n",
       " \n",
       "    jun_vbc_3g  total_rech_data_amt_6  total_rech_data_amt_7  \\\n",
       " 0         0.0                    NaN                    NaN   \n",
       " 1         0.0                  158.0                  375.0   \n",
       " 2         0.0                    NaN                    NaN   \n",
       " \n",
       "    total_rech_data_amt_8  \n",
       " 0                   25.0  \n",
       " 1                  684.0  \n",
       " 2                    NaN  \n",
       " \n",
       " [3 rows x 168 columns],\n",
       " None)"
      ]
     },
     "execution_count": 3,
     "metadata": {},
     "output_type": "execute_result"
    }
   ],
   "source": [
    "validation.validate_inputs(input_data =x)"
   ]
  },
  {
   "cell_type": "code",
   "execution_count": null,
   "metadata": {},
   "outputs": [],
   "source": []
  }
 ],
 "metadata": {
  "kernelspec": {
   "display_name": "base",
   "language": "python",
   "name": "python3"
  },
  "language_info": {
   "codemirror_mode": {
    "name": "ipython",
    "version": 3
   },
   "file_extension": ".py",
   "mimetype": "text/x-python",
   "name": "python",
   "nbconvert_exporter": "python",
   "pygments_lexer": "ipython3",
   "version": "3.9.13"
  },
  "orig_nbformat": 4,
  "vscode": {
   "interpreter": {
    "hash": "1dfbebbd750e0768b064710732ae01ad134862e1777a54dda77e0b6979eccd2e"
   }
  }
 },
 "nbformat": 4,
 "nbformat_minor": 2
}
